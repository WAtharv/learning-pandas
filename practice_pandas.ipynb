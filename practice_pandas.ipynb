{
 "cells": [
  {
   "cell_type": "markdown",
   "id": "4902a8c6",
   "metadata": {},
   "source": [
    "series"
   ]
  },
  {
   "cell_type": "code",
   "execution_count": 77,
   "id": "dbd879d9",
   "metadata": {},
   "outputs": [],
   "source": [
    "import pandas as pd"
   ]
  },
  {
   "cell_type": "code",
   "execution_count": 78,
   "id": "139f2f28",
   "metadata": {},
   "outputs": [
    {
     "name": "stdout",
     "output_type": "stream",
     "text": [
      "Series1 \n",
      ": a    10\n",
      "b    20\n",
      "c    30\n",
      "d    40\n",
      "dtype: int64\n"
     ]
    }
   ],
   "source": [
    "series1=pd.Series([10,20,30,40], index=['a','b','c','d'])\n",
    "print(\"Series1 \\n:\",series1)\n",
    "\n"
   ]
  },
  {
   "cell_type": "code",
   "execution_count": 79,
   "id": "306b795c",
   "metadata": {},
   "outputs": [
    {
     "name": "stdout",
     "output_type": "stream",
     "text": [
      "\n",
      "Value at index 'b' : 20\n",
      "Value at position 2: 30\n",
      "a    20\n",
      "b    40\n",
      "c    60\n",
      "d    80\n",
      "dtype: int64\n"
     ]
    }
   ],
   "source": [
    "print(\"\\nValue at index 'b' :\",series1['b'])\n",
    "print(\"Value at position 2:\", series1.iloc[2])\n",
    "\n",
    "series2=series1*2\n",
    "print(series2)"
   ]
  },
  {
   "cell_type": "markdown",
   "id": "f168c530",
   "metadata": {},
   "source": [
    "dataframe"
   ]
  },
  {
   "cell_type": "code",
   "execution_count": 80,
   "id": "20fada4e",
   "metadata": {},
   "outputs": [
    {
     "name": "stdout",
     "output_type": "stream",
     "text": [
      "Dataframe: \n",
      "      Name  Age      City\n",
      "x    Alice   25  New York\n",
      "y      Bob   30    London\n",
      "z  Charlie   35     Paris\n",
      "Name Column:\n",
      "x      Alice\n",
      "y        Bob\n",
      "z    Charlie\n",
      "Name: Name, dtype: object\n",
      "Rows with index 'Y' :\n",
      "Name       Bob\n",
      "Age         30\n",
      "City    London\n",
      "Name: y, dtype: object\n",
      "\n",
      "Age of 'z': 35\n",
      "\n",
      "Columns: Index(['Name', 'Age', 'City'], dtype='object')\n",
      "Shape: (3, 3)\n"
     ]
    }
   ],
   "source": [
    "data = {\n",
    "    'Name': ['Alice', 'Bob', 'Charlie'],\n",
    "    'Age': [25, 30, 35],\n",
    "    'City': ['New York', 'London', 'Paris']\n",
    "}\n",
    "\n",
    "df=pd.DataFrame(data,index=['x','y','z'])\n",
    "print(\"Dataframe: \")\n",
    "print(df)\n",
    "print(\"Name Column:\")\n",
    "print(df['Name'])\n",
    "\n",
    "print(\"Rows with index 'Y' :\")\n",
    "print(df.loc['y'])\n",
    "\n",
    "print(\"\\nAge of 'z':\", df.loc['z', 'Age'])\n",
    "print(\"\\nColumns:\", df.columns)\n",
    "print(\"Shape:\", df.shape)"
   ]
  },
  {
   "cell_type": "code",
   "execution_count": 81,
   "id": "cb603319",
   "metadata": {},
   "outputs": [
    {
     "name": "stdout",
     "output_type": "stream",
     "text": [
      "first     1\n",
      "second    2\n",
      "third     3\n",
      "dtype: int64\n",
      "Access the second element :  3\n",
      "first     10\n",
      "second    20\n",
      "third     30\n",
      "dtype: int64\n",
      "Access the first row : Product     hats\n",
      "Price         10\n",
      "Quantity      23\n",
      "Name: 0, dtype: object\n",
      "the second column 0     10\n",
      "1    200\n",
      "2      5\n",
      "Name: Price, dtype: int64\n"
     ]
    }
   ],
   "source": [
    "series=pd.Series([1,2,3], index=(['first', 'second', 'third']))\n",
    "print(series)\n",
    "print(\"Access the second element : \",series.iloc[2])\n",
    "print(series*10)\n",
    "\n",
    "df={\n",
    "    'Product':['hats','cycle','pen'],\n",
    "    'Price':[10,200,5],\n",
    "    'Quantity':[23,55,66]\n",
    "}\n",
    "df=pd.DataFrame(df)\n",
    "\n",
    "print(\"Access the first row :\",df.loc[0])\n",
    "print(\"the second column\",df['Price'])\n"
   ]
  },
  {
   "cell_type": "code",
   "execution_count": 82,
   "id": "23701f97",
   "metadata": {},
   "outputs": [],
   "source": [
    "df=pd.read_csv(\"student_data.csv\")"
   ]
  },
  {
   "cell_type": "code",
   "execution_count": 83,
   "id": "dc989efc",
   "metadata": {},
   "outputs": [
    {
     "data": {
      "text/html": [
       "<div>\n",
       "<style scoped>\n",
       "    .dataframe tbody tr th:only-of-type {\n",
       "        vertical-align: middle;\n",
       "    }\n",
       "\n",
       "    .dataframe tbody tr th {\n",
       "        vertical-align: top;\n",
       "    }\n",
       "\n",
       "    .dataframe thead th {\n",
       "        text-align: right;\n",
       "    }\n",
       "</style>\n",
       "<table border=\"1\" class=\"dataframe\">\n",
       "  <thead>\n",
       "    <tr style=\"text-align: right;\">\n",
       "      <th></th>\n",
       "      <th>ID</th>\n",
       "      <th>Name</th>\n",
       "      <th>Age</th>\n",
       "      <th>Grade</th>\n",
       "      <th>Subject</th>\n",
       "      <th>Score</th>\n",
       "    </tr>\n",
       "  </thead>\n",
       "  <tbody>\n",
       "    <tr>\n",
       "      <th>0</th>\n",
       "      <td>1</td>\n",
       "      <td>Alice</td>\n",
       "      <td>20.0</td>\n",
       "      <td>A</td>\n",
       "      <td>Math</td>\n",
       "      <td>85.0</td>\n",
       "    </tr>\n",
       "    <tr>\n",
       "      <th>1</th>\n",
       "      <td>2</td>\n",
       "      <td>Bob</td>\n",
       "      <td>NaN</td>\n",
       "      <td>B</td>\n",
       "      <td>Science</td>\n",
       "      <td>78.0</td>\n",
       "    </tr>\n",
       "    <tr>\n",
       "      <th>2</th>\n",
       "      <td>3</td>\n",
       "      <td>Charlie</td>\n",
       "      <td>19.0</td>\n",
       "      <td>C</td>\n",
       "      <td>Math</td>\n",
       "      <td>NaN</td>\n",
       "    </tr>\n",
       "    <tr>\n",
       "      <th>3</th>\n",
       "      <td>4</td>\n",
       "      <td>David</td>\n",
       "      <td>21.0</td>\n",
       "      <td>A</td>\n",
       "      <td>English</td>\n",
       "      <td>92.0</td>\n",
       "    </tr>\n",
       "    <tr>\n",
       "      <th>4</th>\n",
       "      <td>5</td>\n",
       "      <td>Eve</td>\n",
       "      <td>20.0</td>\n",
       "      <td>NaN</td>\n",
       "      <td>Science</td>\n",
       "      <td>88.0</td>\n",
       "    </tr>\n",
       "    <tr>\n",
       "      <th>5</th>\n",
       "      <td>6</td>\n",
       "      <td>Frank</td>\n",
       "      <td>22.0</td>\n",
       "      <td>B</td>\n",
       "      <td>Math</td>\n",
       "      <td>75.0</td>\n",
       "    </tr>\n",
       "    <tr>\n",
       "      <th>6</th>\n",
       "      <td>7</td>\n",
       "      <td>Grace</td>\n",
       "      <td>19.0</td>\n",
       "      <td>A</td>\n",
       "      <td>English</td>\n",
       "      <td>NaN</td>\n",
       "    </tr>\n",
       "    <tr>\n",
       "      <th>7</th>\n",
       "      <td>8</td>\n",
       "      <td>Hannah</td>\n",
       "      <td>NaN</td>\n",
       "      <td>C</td>\n",
       "      <td>Science</td>\n",
       "      <td>80.0</td>\n",
       "    </tr>\n",
       "    <tr>\n",
       "      <th>8</th>\n",
       "      <td>9</td>\n",
       "      <td>Ivy</td>\n",
       "      <td>20.0</td>\n",
       "      <td>B</td>\n",
       "      <td>Math</td>\n",
       "      <td>90.0</td>\n",
       "    </tr>\n",
       "    <tr>\n",
       "      <th>9</th>\n",
       "      <td>10</td>\n",
       "      <td>Jack</td>\n",
       "      <td>21.0</td>\n",
       "      <td>A</td>\n",
       "      <td>English</td>\n",
       "      <td>87.0</td>\n",
       "    </tr>\n",
       "  </tbody>\n",
       "</table>\n",
       "</div>"
      ],
      "text/plain": [
       "   ID     Name   Age Grade  Subject  Score\n",
       "0   1    Alice  20.0     A     Math   85.0\n",
       "1   2      Bob   NaN     B  Science   78.0\n",
       "2   3  Charlie  19.0     C     Math    NaN\n",
       "3   4    David  21.0     A  English   92.0\n",
       "4   5      Eve  20.0   NaN  Science   88.0\n",
       "5   6    Frank  22.0     B     Math   75.0\n",
       "6   7    Grace  19.0     A  English    NaN\n",
       "7   8   Hannah   NaN     C  Science   80.0\n",
       "8   9      Ivy  20.0     B     Math   90.0\n",
       "9  10     Jack  21.0     A  English   87.0"
      ]
     },
     "execution_count": 83,
     "metadata": {},
     "output_type": "execute_result"
    }
   ],
   "source": [
    "df"
   ]
  },
  {
   "cell_type": "code",
   "execution_count": 84,
   "id": "4ee4ad09",
   "metadata": {},
   "outputs": [
    {
     "data": {
      "text/html": [
       "<div>\n",
       "<style scoped>\n",
       "    .dataframe tbody tr th:only-of-type {\n",
       "        vertical-align: middle;\n",
       "    }\n",
       "\n",
       "    .dataframe tbody tr th {\n",
       "        vertical-align: top;\n",
       "    }\n",
       "\n",
       "    .dataframe thead th {\n",
       "        text-align: right;\n",
       "    }\n",
       "</style>\n",
       "<table border=\"1\" class=\"dataframe\">\n",
       "  <thead>\n",
       "    <tr style=\"text-align: right;\">\n",
       "      <th></th>\n",
       "      <th>ID</th>\n",
       "      <th>Name</th>\n",
       "      <th>Age</th>\n",
       "      <th>Grade</th>\n",
       "      <th>Subject</th>\n",
       "      <th>Score</th>\n",
       "    </tr>\n",
       "  </thead>\n",
       "  <tbody>\n",
       "    <tr>\n",
       "      <th>0</th>\n",
       "      <td>1</td>\n",
       "      <td>Alice</td>\n",
       "      <td>20.0</td>\n",
       "      <td>A</td>\n",
       "      <td>Math</td>\n",
       "      <td>85.0</td>\n",
       "    </tr>\n",
       "    <tr>\n",
       "      <th>1</th>\n",
       "      <td>2</td>\n",
       "      <td>Bob</td>\n",
       "      <td>NaN</td>\n",
       "      <td>B</td>\n",
       "      <td>Science</td>\n",
       "      <td>78.0</td>\n",
       "    </tr>\n",
       "    <tr>\n",
       "      <th>2</th>\n",
       "      <td>3</td>\n",
       "      <td>Charlie</td>\n",
       "      <td>19.0</td>\n",
       "      <td>C</td>\n",
       "      <td>Math</td>\n",
       "      <td>NaN</td>\n",
       "    </tr>\n",
       "  </tbody>\n",
       "</table>\n",
       "</div>"
      ],
      "text/plain": [
       "   ID     Name   Age Grade  Subject  Score\n",
       "0   1    Alice  20.0     A     Math   85.0\n",
       "1   2      Bob   NaN     B  Science   78.0\n",
       "2   3  Charlie  19.0     C     Math    NaN"
      ]
     },
     "execution_count": 84,
     "metadata": {},
     "output_type": "execute_result"
    }
   ],
   "source": [
    "df.head(3)"
   ]
  },
  {
   "cell_type": "code",
   "execution_count": 85,
   "id": "95dc44dc",
   "metadata": {},
   "outputs": [
    {
     "data": {
      "text/html": [
       "<div>\n",
       "<style scoped>\n",
       "    .dataframe tbody tr th:only-of-type {\n",
       "        vertical-align: middle;\n",
       "    }\n",
       "\n",
       "    .dataframe tbody tr th {\n",
       "        vertical-align: top;\n",
       "    }\n",
       "\n",
       "    .dataframe thead th {\n",
       "        text-align: right;\n",
       "    }\n",
       "</style>\n",
       "<table border=\"1\" class=\"dataframe\">\n",
       "  <thead>\n",
       "    <tr style=\"text-align: right;\">\n",
       "      <th></th>\n",
       "      <th>ID</th>\n",
       "      <th>Name</th>\n",
       "      <th>Age</th>\n",
       "      <th>Grade</th>\n",
       "      <th>Subject</th>\n",
       "      <th>Score</th>\n",
       "    </tr>\n",
       "  </thead>\n",
       "  <tbody>\n",
       "    <tr>\n",
       "      <th>8</th>\n",
       "      <td>9</td>\n",
       "      <td>Ivy</td>\n",
       "      <td>20.0</td>\n",
       "      <td>B</td>\n",
       "      <td>Math</td>\n",
       "      <td>90.0</td>\n",
       "    </tr>\n",
       "    <tr>\n",
       "      <th>9</th>\n",
       "      <td>10</td>\n",
       "      <td>Jack</td>\n",
       "      <td>21.0</td>\n",
       "      <td>A</td>\n",
       "      <td>English</td>\n",
       "      <td>87.0</td>\n",
       "    </tr>\n",
       "  </tbody>\n",
       "</table>\n",
       "</div>"
      ],
      "text/plain": [
       "   ID  Name   Age Grade  Subject  Score\n",
       "8   9   Ivy  20.0     B     Math   90.0\n",
       "9  10  Jack  21.0     A  English   87.0"
      ]
     },
     "execution_count": 85,
     "metadata": {},
     "output_type": "execute_result"
    }
   ],
   "source": [
    "df.tail(2)"
   ]
  },
  {
   "cell_type": "code",
   "execution_count": 86,
   "id": "34173f64",
   "metadata": {},
   "outputs": [
    {
     "name": "stdout",
     "output_type": "stream",
     "text": [
      "<class 'pandas.core.frame.DataFrame'>\n",
      "RangeIndex: 10 entries, 0 to 9\n",
      "Data columns (total 6 columns):\n",
      " #   Column   Non-Null Count  Dtype  \n",
      "---  ------   --------------  -----  \n",
      " 0   ID       10 non-null     int64  \n",
      " 1   Name     10 non-null     object \n",
      " 2   Age      8 non-null      float64\n",
      " 3   Grade    9 non-null      object \n",
      " 4   Subject  10 non-null     object \n",
      " 5   Score    8 non-null      float64\n",
      "dtypes: float64(2), int64(1), object(3)\n",
      "memory usage: 612.0+ bytes\n"
     ]
    }
   ],
   "source": [
    "df.info()"
   ]
  },
  {
   "cell_type": "code",
   "execution_count": 87,
   "id": "9d4c0955",
   "metadata": {},
   "outputs": [
    {
     "data": {
      "text/html": [
       "<div>\n",
       "<style scoped>\n",
       "    .dataframe tbody tr th:only-of-type {\n",
       "        vertical-align: middle;\n",
       "    }\n",
       "\n",
       "    .dataframe tbody tr th {\n",
       "        vertical-align: top;\n",
       "    }\n",
       "\n",
       "    .dataframe thead th {\n",
       "        text-align: right;\n",
       "    }\n",
       "</style>\n",
       "<table border=\"1\" class=\"dataframe\">\n",
       "  <thead>\n",
       "    <tr style=\"text-align: right;\">\n",
       "      <th></th>\n",
       "      <th>ID</th>\n",
       "      <th>Age</th>\n",
       "      <th>Score</th>\n",
       "    </tr>\n",
       "  </thead>\n",
       "  <tbody>\n",
       "    <tr>\n",
       "      <th>count</th>\n",
       "      <td>10.00000</td>\n",
       "      <td>8.000000</td>\n",
       "      <td>8.000000</td>\n",
       "    </tr>\n",
       "    <tr>\n",
       "      <th>mean</th>\n",
       "      <td>5.50000</td>\n",
       "      <td>20.250000</td>\n",
       "      <td>84.375000</td>\n",
       "    </tr>\n",
       "    <tr>\n",
       "      <th>std</th>\n",
       "      <td>3.02765</td>\n",
       "      <td>1.035098</td>\n",
       "      <td>6.069538</td>\n",
       "    </tr>\n",
       "    <tr>\n",
       "      <th>min</th>\n",
       "      <td>1.00000</td>\n",
       "      <td>19.000000</td>\n",
       "      <td>75.000000</td>\n",
       "    </tr>\n",
       "    <tr>\n",
       "      <th>25%</th>\n",
       "      <td>3.25000</td>\n",
       "      <td>19.750000</td>\n",
       "      <td>79.500000</td>\n",
       "    </tr>\n",
       "    <tr>\n",
       "      <th>50%</th>\n",
       "      <td>5.50000</td>\n",
       "      <td>20.000000</td>\n",
       "      <td>86.000000</td>\n",
       "    </tr>\n",
       "    <tr>\n",
       "      <th>75%</th>\n",
       "      <td>7.75000</td>\n",
       "      <td>21.000000</td>\n",
       "      <td>88.500000</td>\n",
       "    </tr>\n",
       "    <tr>\n",
       "      <th>max</th>\n",
       "      <td>10.00000</td>\n",
       "      <td>22.000000</td>\n",
       "      <td>92.000000</td>\n",
       "    </tr>\n",
       "  </tbody>\n",
       "</table>\n",
       "</div>"
      ],
      "text/plain": [
       "             ID        Age      Score\n",
       "count  10.00000   8.000000   8.000000\n",
       "mean    5.50000  20.250000  84.375000\n",
       "std     3.02765   1.035098   6.069538\n",
       "min     1.00000  19.000000  75.000000\n",
       "25%     3.25000  19.750000  79.500000\n",
       "50%     5.50000  20.000000  86.000000\n",
       "75%     7.75000  21.000000  88.500000\n",
       "max    10.00000  22.000000  92.000000"
      ]
     },
     "execution_count": 87,
     "metadata": {},
     "output_type": "execute_result"
    }
   ],
   "source": [
    "df.describe()"
   ]
  },
  {
   "cell_type": "code",
   "execution_count": 88,
   "id": "6ac227d5",
   "metadata": {},
   "outputs": [
    {
     "data": {
      "text/plain": [
       "(10, 6)"
      ]
     },
     "execution_count": 88,
     "metadata": {},
     "output_type": "execute_result"
    }
   ],
   "source": [
    "df.shape\n",
    "\n"
   ]
  },
  {
   "cell_type": "code",
   "execution_count": 89,
   "id": "58061fea",
   "metadata": {},
   "outputs": [
    {
     "data": {
      "text/plain": [
       "Index(['ID', 'Name', 'Age', 'Grade', 'Subject', 'Score'], dtype='object')"
      ]
     },
     "execution_count": 89,
     "metadata": {},
     "output_type": "execute_result"
    }
   ],
   "source": [
    "df.columns"
   ]
  },
  {
   "cell_type": "code",
   "execution_count": 90,
   "id": "b01ccad6",
   "metadata": {},
   "outputs": [
    {
     "data": {
      "text/plain": [
       "RangeIndex(start=0, stop=10, step=1)"
      ]
     },
     "execution_count": 90,
     "metadata": {},
     "output_type": "execute_result"
    }
   ],
   "source": [
    "df.index"
   ]
  },
  {
   "cell_type": "code",
   "execution_count": 91,
   "id": "0d68a41a",
   "metadata": {},
   "outputs": [
    {
     "data": {
      "text/plain": [
       "ID         0\n",
       "Name       0\n",
       "Age        2\n",
       "Grade      1\n",
       "Subject    0\n",
       "Score      2\n",
       "dtype: int64"
      ]
     },
     "execution_count": 91,
     "metadata": {},
     "output_type": "execute_result"
    }
   ],
   "source": [
    "df.isnull().sum()"
   ]
  },
  {
   "cell_type": "code",
   "execution_count": 92,
   "id": "bb104634",
   "metadata": {},
   "outputs": [
    {
     "data": {
      "text/plain": [
       "ID         10\n",
       "Name       10\n",
       "Age         8\n",
       "Grade       9\n",
       "Subject    10\n",
       "Score       8\n",
       "dtype: int64"
      ]
     },
     "execution_count": 92,
     "metadata": {},
     "output_type": "execute_result"
    }
   ],
   "source": [
    "df.count()"
   ]
  },
  {
   "cell_type": "code",
   "execution_count": 93,
   "id": "402d3b77",
   "metadata": {},
   "outputs": [
    {
     "data": {
      "text/plain": [
       "Subject\n",
       "Math       4\n",
       "Science    3\n",
       "English    3\n",
       "Name: count, dtype: int64"
      ]
     },
     "execution_count": 93,
     "metadata": {},
     "output_type": "execute_result"
    }
   ],
   "source": [
    "df['Subject'].value_counts()"
   ]
  },
  {
   "cell_type": "markdown",
   "id": "ad7c201e",
   "metadata": {},
   "source": [
    "data selection and Indexing in Pandas"
   ]
  },
  {
   "cell_type": "code",
   "execution_count": 94,
   "id": "2f55927b",
   "metadata": {},
   "outputs": [
    {
     "data": {
      "text/html": [
       "<div>\n",
       "<style scoped>\n",
       "    .dataframe tbody tr th:only-of-type {\n",
       "        vertical-align: middle;\n",
       "    }\n",
       "\n",
       "    .dataframe tbody tr th {\n",
       "        vertical-align: top;\n",
       "    }\n",
       "\n",
       "    .dataframe thead th {\n",
       "        text-align: right;\n",
       "    }\n",
       "</style>\n",
       "<table border=\"1\" class=\"dataframe\">\n",
       "  <thead>\n",
       "    <tr style=\"text-align: right;\">\n",
       "      <th></th>\n",
       "      <th>ID</th>\n",
       "      <th>Name</th>\n",
       "      <th>Age</th>\n",
       "      <th>Grade</th>\n",
       "      <th>Subject</th>\n",
       "      <th>Score</th>\n",
       "    </tr>\n",
       "  </thead>\n",
       "  <tbody>\n",
       "    <tr>\n",
       "      <th>0</th>\n",
       "      <td>1</td>\n",
       "      <td>Alice</td>\n",
       "      <td>20.0</td>\n",
       "      <td>A</td>\n",
       "      <td>Math</td>\n",
       "      <td>85.0</td>\n",
       "    </tr>\n",
       "    <tr>\n",
       "      <th>1</th>\n",
       "      <td>2</td>\n",
       "      <td>Bob</td>\n",
       "      <td>NaN</td>\n",
       "      <td>B</td>\n",
       "      <td>Science</td>\n",
       "      <td>78.0</td>\n",
       "    </tr>\n",
       "    <tr>\n",
       "      <th>2</th>\n",
       "      <td>3</td>\n",
       "      <td>Charlie</td>\n",
       "      <td>19.0</td>\n",
       "      <td>C</td>\n",
       "      <td>Math</td>\n",
       "      <td>NaN</td>\n",
       "    </tr>\n",
       "    <tr>\n",
       "      <th>3</th>\n",
       "      <td>4</td>\n",
       "      <td>David</td>\n",
       "      <td>21.0</td>\n",
       "      <td>A</td>\n",
       "      <td>English</td>\n",
       "      <td>92.0</td>\n",
       "    </tr>\n",
       "    <tr>\n",
       "      <th>4</th>\n",
       "      <td>5</td>\n",
       "      <td>Eve</td>\n",
       "      <td>20.0</td>\n",
       "      <td>NaN</td>\n",
       "      <td>Science</td>\n",
       "      <td>88.0</td>\n",
       "    </tr>\n",
       "    <tr>\n",
       "      <th>5</th>\n",
       "      <td>6</td>\n",
       "      <td>Frank</td>\n",
       "      <td>22.0</td>\n",
       "      <td>B</td>\n",
       "      <td>Math</td>\n",
       "      <td>75.0</td>\n",
       "    </tr>\n",
       "    <tr>\n",
       "      <th>6</th>\n",
       "      <td>7</td>\n",
       "      <td>Grace</td>\n",
       "      <td>19.0</td>\n",
       "      <td>A</td>\n",
       "      <td>English</td>\n",
       "      <td>NaN</td>\n",
       "    </tr>\n",
       "    <tr>\n",
       "      <th>7</th>\n",
       "      <td>8</td>\n",
       "      <td>Hannah</td>\n",
       "      <td>NaN</td>\n",
       "      <td>C</td>\n",
       "      <td>Science</td>\n",
       "      <td>80.0</td>\n",
       "    </tr>\n",
       "    <tr>\n",
       "      <th>8</th>\n",
       "      <td>9</td>\n",
       "      <td>Ivy</td>\n",
       "      <td>20.0</td>\n",
       "      <td>B</td>\n",
       "      <td>Math</td>\n",
       "      <td>90.0</td>\n",
       "    </tr>\n",
       "    <tr>\n",
       "      <th>9</th>\n",
       "      <td>10</td>\n",
       "      <td>Jack</td>\n",
       "      <td>21.0</td>\n",
       "      <td>A</td>\n",
       "      <td>English</td>\n",
       "      <td>87.0</td>\n",
       "    </tr>\n",
       "  </tbody>\n",
       "</table>\n",
       "</div>"
      ],
      "text/plain": [
       "   ID     Name   Age Grade  Subject  Score\n",
       "0   1    Alice  20.0     A     Math   85.0\n",
       "1   2      Bob   NaN     B  Science   78.0\n",
       "2   3  Charlie  19.0     C     Math    NaN\n",
       "3   4    David  21.0     A  English   92.0\n",
       "4   5      Eve  20.0   NaN  Science   88.0\n",
       "5   6    Frank  22.0     B     Math   75.0\n",
       "6   7    Grace  19.0     A  English    NaN\n",
       "7   8   Hannah   NaN     C  Science   80.0\n",
       "8   9      Ivy  20.0     B     Math   90.0\n",
       "9  10     Jack  21.0     A  English   87.0"
      ]
     },
     "execution_count": 94,
     "metadata": {},
     "output_type": "execute_result"
    }
   ],
   "source": [
    "df"
   ]
  },
  {
   "cell_type": "code",
   "execution_count": 95,
   "id": "8affc0b0",
   "metadata": {},
   "outputs": [
    {
     "data": {
      "text/plain": [
       "0      Alice\n",
       "1        Bob\n",
       "2    Charlie\n",
       "3      David\n",
       "4        Eve\n",
       "5      Frank\n",
       "6      Grace\n",
       "7     Hannah\n",
       "8        Ivy\n",
       "9       Jack\n",
       "Name: Name, dtype: object"
      ]
     },
     "execution_count": 95,
     "metadata": {},
     "output_type": "execute_result"
    }
   ],
   "source": [
    "df['Name']"
   ]
  },
  {
   "cell_type": "code",
   "execution_count": 96,
   "id": "14535980",
   "metadata": {},
   "outputs": [
    {
     "name": "stdout",
     "output_type": "stream",
     "text": [
      "      Name  Score\n",
      "0    Alice   85.0\n",
      "1      Bob   78.0\n",
      "2  Charlie    NaN\n",
      "3    David   92.0\n",
      "4      Eve   88.0\n"
     ]
    }
   ],
   "source": [
    "print(df[['Name','Score']].head())"
   ]
  },
  {
   "cell_type": "code",
   "execution_count": 97,
   "id": "95c91d90",
   "metadata": {},
   "outputs": [
    {
     "name": "stdout",
     "output_type": "stream",
     "text": [
      "ID               3\n",
      "Name       Charlie\n",
      "Age           19.0\n",
      "Grade            C\n",
      "Subject       Math\n",
      "Score          NaN\n",
      "Name: 2, dtype: object\n"
     ]
    }
   ],
   "source": [
    "print(df.loc[2])"
   ]
  },
  {
   "cell_type": "code",
   "execution_count": 98,
   "id": "8163db4f",
   "metadata": {},
   "outputs": [
    {
     "name": "stdout",
     "output_type": "stream",
     "text": [
      "Charlie\n"
     ]
    }
   ],
   "source": [
    "print(df.iloc[2,1])"
   ]
  },
  {
   "cell_type": "code",
   "execution_count": 99,
   "id": "29e0499e",
   "metadata": {},
   "outputs": [
    {
     "name": "stdout",
     "output_type": "stream",
     "text": [
      "      Name  Subject\n",
      "0    Alice     Math\n",
      "1      Bob  Science\n",
      "2  Charlie     Math\n",
      "3    David  English\n"
     ]
    }
   ],
   "source": [
    "print(df.loc[0:3,['Name','Subject']])"
   ]
  },
  {
   "cell_type": "code",
   "execution_count": 100,
   "id": "3b9d5038",
   "metadata": {},
   "outputs": [
    {
     "name": "stdout",
     "output_type": "stream",
     "text": [
      "   ID   Name   Age Grade  Subject  Score\n",
      "0   1  Alice  20.0     A     Math   85.0\n",
      "3   4  David  21.0     A  English   92.0\n",
      "4   5    Eve  20.0   NaN  Science   88.0\n",
      "8   9    Ivy  20.0     B     Math   90.0\n",
      "9  10   Jack  21.0     A  English   87.0\n"
     ]
    }
   ],
   "source": [
    "print(df[df['Score']>80])"
   ]
  },
  {
   "cell_type": "code",
   "execution_count": 101,
   "id": "eca92911",
   "metadata": {},
   "outputs": [
    {
     "name": "stdout",
     "output_type": "stream",
     "text": [
      "   ID   Name   Age Grade Subject  Score\n",
      "0   1  Alice  20.0     A    Math   85.0\n"
     ]
    }
   ],
   "source": [
    "print(df[(df['Subject']=='Math')&(df['Grade']=='A')])"
   ]
  },
  {
   "cell_type": "code",
   "execution_count": 102,
   "id": "b2de93c7",
   "metadata": {},
   "outputs": [
    {
     "name": "stdout",
     "output_type": "stream",
     "text": [
      "   ID   Name   Age Grade  Subject  Score\n",
      "0   1  Alice  20.0     A     Math   85.0\n",
      "3   4  David  21.0     A  English   92.0\n",
      "4   5    Eve  20.0   NaN  Science   88.0\n",
      "5   6  Frank  22.0     B     Math   75.0\n",
      "8   9    Ivy  20.0     B     Math   90.0\n",
      "9  10   Jack  21.0     A  English   87.0\n"
     ]
    }
   ],
   "source": [
    "print(df.query('Age>=20'))"
   ]
  },
  {
   "cell_type": "code",
   "execution_count": 103,
   "id": "25729df2",
   "metadata": {},
   "outputs": [
    {
     "name": "stdout",
     "output_type": "stream",
     "text": [
      "88.0\n"
     ]
    }
   ],
   "source": [
    "print(df.at[4,'Score'])"
   ]
  },
  {
   "cell_type": "code",
   "execution_count": 104,
   "id": "8563d5fb",
   "metadata": {},
   "outputs": [
    {
     "name": "stdout",
     "output_type": "stream",
     "text": [
      "Charlie\n"
     ]
    }
   ],
   "source": [
    "print(df.iat[2,1])"
   ]
  },
  {
   "cell_type": "code",
   "execution_count": 105,
   "id": "061029b7",
   "metadata": {},
   "outputs": [
    {
     "name": "stdout",
     "output_type": "stream",
     "text": [
      "    Name  Age  Subject  Score\n",
      "0  Alice   20     Math     85\n",
      "1    Bob   21  Science     90\n",
      "3  David   22  English     92\n",
      "4    Eva   20  Biology     88\n"
     ]
    },
    {
     "data": {
      "text/plain": [
       "(5, 4)"
      ]
     },
     "execution_count": 105,
     "metadata": {},
     "output_type": "execute_result"
    }
   ],
   "source": [
    "'''Create a new DataFrame containing only the Name, Subject, and Score columns for students who are either in the Science subject or have a Score greater than or equal to 85. How would you combine these conditions, and what is the shape of the resulting DataFrame?'''\n",
    "data = {\n",
    "    'Name': ['Alice', 'Bob', 'Charlie', 'David', 'Eva'],\n",
    "    'Age': [20, 21, 19, 22, 20],\n",
    "    'Subject': ['Math', 'Science', 'History', 'English', 'Biology'],\n",
    "    'Score': [85, 90, 78, 92, 88]\n",
    "}\n",
    "df=pd.DataFrame(data)\n",
    "\n",
    "\n",
    "print(df[(df['Subject']=='Science')|(df['Score']>=85)])\n",
    "df.shape\n"
   ]
  },
  {
   "cell_type": "code",
   "execution_count": 106,
   "id": "113a98e6",
   "metadata": {},
   "outputs": [
    {
     "name": "stdout",
     "output_type": "stream",
     "text": [
      "    Name  Age  Subject  Score\n",
      "0  Alice   20     Math     85\n",
      "1    Bob   21  Science     90\n",
      "3  David   22  English     92\n",
      "4    Eva   20  Biology     88\n"
     ]
    }
   ],
   "source": [
    "print(df[(df['Subject']=='Science')|(df['Score']>=85)])"
   ]
  },
  {
   "cell_type": "code",
   "execution_count": 107,
   "id": "79724e3d",
   "metadata": {},
   "outputs": [
    {
     "data": {
      "text/plain": [
       "(5, 4)"
      ]
     },
     "execution_count": 107,
     "metadata": {},
     "output_type": "execute_result"
    }
   ],
   "source": [
    "df.shape"
   ]
  },
  {
   "cell_type": "markdown",
   "id": "a50a55d4",
   "metadata": {},
   "source": [
    "Data Cleaning in Pandas"
   ]
  },
  {
   "cell_type": "code",
   "execution_count": 108,
   "id": "15309363",
   "metadata": {},
   "outputs": [],
   "source": [
    "df=pd.read_csv(\"student_data.csv\")"
   ]
  },
  {
   "cell_type": "code",
   "execution_count": 109,
   "id": "3c0898a1",
   "metadata": {},
   "outputs": [
    {
     "name": "stdout",
     "output_type": "stream",
     "text": [
      "ID         0\n",
      "Name       0\n",
      "Age        2\n",
      "Grade      1\n",
      "Subject    0\n",
      "Score      2\n",
      "dtype: int64\n"
     ]
    }
   ],
   "source": [
    "print(df.isnull().sum())"
   ]
  },
  {
   "cell_type": "code",
   "execution_count": 110,
   "id": "8c869455",
   "metadata": {},
   "outputs": [
    {
     "name": "stdout",
     "output_type": "stream",
     "text": [
      "0\n",
      "   ID     Name    Age Grade  Subject  Score\n",
      "0   1    Alice  20.00     A     Math   85.0\n",
      "1   2      Bob  20.25     B  Science   78.0\n",
      "2   3  Charlie  19.00     C     Math    NaN\n",
      "3   4    David  21.00     A  English   92.0\n",
      "4   5      Eve  20.00   NaN  Science   88.0\n"
     ]
    }
   ],
   "source": [
    "mean_age = df['Age'].mean()\n",
    "new_df=df.copy()\n",
    "new_df['Age'] = new_df['Age'].fillna(mean_age)\n",
    "\n",
    "print(new_df['Age'].isnull().sum())  # Should be 0\n",
    "print(new_df.head())"
   ]
  },
  {
   "cell_type": "code",
   "execution_count": 111,
   "id": "53607213",
   "metadata": {},
   "outputs": [
    {
     "name": "stdout",
     "output_type": "stream",
     "text": [
      "0\n"
     ]
    }
   ],
   "source": [
    "print(df.duplicated().sum())"
   ]
  },
  {
   "cell_type": "code",
   "execution_count": 112,
   "id": "b6ded819",
   "metadata": {},
   "outputs": [
    {
     "name": "stdout",
     "output_type": "stream",
     "text": [
      "0\n"
     ]
    }
   ],
   "source": [
    "print(df.duplicated(subset=['Name']).sum())"
   ]
  },
  {
   "cell_type": "code",
   "execution_count": 113,
   "id": "09dd879f",
   "metadata": {},
   "outputs": [
    {
     "name": "stdout",
     "output_type": "stream",
     "text": [
      "ID           int64\n",
      "Name        object\n",
      "Age        float64\n",
      "Grade       object\n",
      "Subject     object\n",
      "Score      float64\n",
      "dtype: object\n"
     ]
    }
   ],
   "source": [
    "print(df.dtypes)"
   ]
  },
  {
   "cell_type": "code",
   "execution_count": 114,
   "id": "4698a12c",
   "metadata": {},
   "outputs": [],
   "source": [
    "df['Grade']=df['Grade'].astype('category')"
   ]
  },
  {
   "cell_type": "code",
   "execution_count": 115,
   "id": "9a3537e5",
   "metadata": {},
   "outputs": [
    {
     "name": "stdout",
     "output_type": "stream",
     "text": [
      "ID            int64\n",
      "Name         object\n",
      "Age         float64\n",
      "Grade      category\n",
      "Subject      object\n",
      "Score       float64\n",
      "dtype: object\n"
     ]
    }
   ],
   "source": [
    "print(df.dtypes)"
   ]
  },
  {
   "cell_type": "code",
   "execution_count": 116,
   "id": "4a742b05",
   "metadata": {},
   "outputs": [
    {
     "name": "stdout",
     "output_type": "stream",
     "text": [
      "0    85.0\n",
      "1    78.0\n",
      "2     NaN\n",
      "3    92.0\n",
      "4    88.0\n",
      "5    75.0\n",
      "6     NaN\n",
      "7    80.0\n",
      "8    90.0\n",
      "9    87.0\n",
      "Name: Score, dtype: float64\n"
     ]
    }
   ],
   "source": [
    "print(df['Score'])"
   ]
  },
  {
   "cell_type": "code",
   "execution_count": 117,
   "id": "2e3720f3",
   "metadata": {},
   "outputs": [],
   "source": [
    "df['Score']=pd.to_numeric(df['Score'],errors='coerce')"
   ]
  },
  {
   "cell_type": "code",
   "execution_count": 118,
   "id": "b9303eb5",
   "metadata": {},
   "outputs": [
    {
     "name": "stdout",
     "output_type": "stream",
     "text": [
      "2\n",
      "float64\n",
      "      Name  Score\n",
      "0    Alice   85.0\n",
      "1      Bob   78.0\n",
      "2  Charlie    NaN\n",
      "3    David   92.0\n",
      "4      Eve   88.0\n",
      "5    Frank   75.0\n",
      "6    Grace    NaN\n",
      "7   Hannah   80.0\n",
      "8      Ivy   90.0\n",
      "9     Jack   87.0\n"
     ]
    }
   ],
   "source": [
    "print(new_df['Score'].isnull().sum())  # Check missing values\n",
    "print(new_df['Score'].dtype)  # Check data type\n",
    "print(new_df[['Name', 'Score']])"
   ]
  },
  {
   "cell_type": "code",
   "execution_count": 119,
   "id": "651e97a1",
   "metadata": {},
   "outputs": [],
   "source": [
    "new_df1=df.copy()"
   ]
  },
  {
   "cell_type": "code",
   "execution_count": 120,
   "id": "2fbf2629",
   "metadata": {},
   "outputs": [
    {
     "name": "stdout",
     "output_type": "stream",
     "text": [
      "   ID     Name   Age Grade  Subject  Score\n",
      "0   1    Alice  20.0     A     Math   85.0\n",
      "1   2      Bob   NaN     B  Science   78.0\n",
      "2   3  Charlie  19.0     C     Math    NaN\n",
      "3   4    David  21.0     A  English   92.0\n",
      "4   5      Eve  20.0   NaN  Science   88.0\n",
      "5   6    Frank  22.0     B     Math   75.0\n",
      "6   7    Grace  19.0     A  English    NaN\n",
      "7   8   Hannah   NaN     C  Science   80.0\n",
      "8   9      Ivy  20.0     B     Math   90.0\n",
      "9  10     Jack  21.0     A  English   87.0\n"
     ]
    }
   ],
   "source": [
    "print(new_df1)"
   ]
  },
  {
   "cell_type": "code",
   "execution_count": 121,
   "id": "666eb491",
   "metadata": {},
   "outputs": [
    {
     "name": "stdout",
     "output_type": "stream",
     "text": [
      "Grade\n",
      "A          4\n",
      "B          3\n",
      "Average    2\n",
      "Name: count, dtype: int64\n",
      "   ID     Name   Age    Grade  Subject  Score\n",
      "0   1    Alice  20.0        A     Math   85.0\n",
      "1   2      Bob   NaN        B  Science   78.0\n",
      "2   3  Charlie  19.0  Average     Math    NaN\n",
      "3   4    David  21.0        A  English   92.0\n",
      "4   5      Eve  20.0      NaN  Science   88.0\n",
      "0\n",
      "      Name    Grade\n",
      "0    Alice        A\n",
      "1      Bob        B\n",
      "2  Charlie        C\n",
      "3    David        A\n",
      "4      Eve  Unknown\n",
      "5    Frank        B\n",
      "6    Grace        A\n",
      "7   Hannah        C\n",
      "8      Ivy        B\n",
      "9     Jack        A\n"
     ]
    },
    {
     "name": "stderr",
     "output_type": "stream",
     "text": [
      "C:\\Users\\ATHARV\\AppData\\Local\\Temp\\ipykernel_2932\\4026553102.py:1: FutureWarning: The behavior of Series.replace (and DataFrame.replace) with CategoricalDtype is deprecated. In a future version, replace will only be used for cases that preserve the categories. To change the categories, use ser.cat.rename_categories instead.\n",
      "  new_df1['Grade'] = new_df1['Grade'].replace('C', 'Average')\n"
     ]
    }
   ],
   "source": [
    "new_df1['Grade'] = new_df1['Grade'].replace('C', 'Average')\n",
    "print(new_df1['Grade'].value_counts())  # Verify replacement\n",
    "print(new_df1.head())\n",
    "\n",
    "\n",
    "new_df2 = df.copy()\n",
    "# Since 'Grade' is a categorical column, we need to add 'Unknown' to its categories before filling NA\n",
    "if 'Unknown' not in new_df2['Grade'].cat.categories:\n",
    "    new_df2['Grade'] = new_df2['Grade'].cat.add_categories(['Unknown'])\n",
    "new_df2['Grade'] = new_df2['Grade'].fillna('Unknown')\n",
    "print(new_df2['Grade'].isnull().sum())  # Verify no missing values\n",
    "print(new_df2[['Name', 'Grade']])"
   ]
  },
  {
   "cell_type": "code",
   "execution_count": 122,
   "id": "6df15231",
   "metadata": {},
   "outputs": [],
   "source": [
    "df2=df.copy()"
   ]
  },
  {
   "cell_type": "code",
   "execution_count": 123,
   "id": "158d619e",
   "metadata": {},
   "outputs": [
    {
     "data": {
      "text/html": [
       "<div>\n",
       "<style scoped>\n",
       "    .dataframe tbody tr th:only-of-type {\n",
       "        vertical-align: middle;\n",
       "    }\n",
       "\n",
       "    .dataframe tbody tr th {\n",
       "        vertical-align: top;\n",
       "    }\n",
       "\n",
       "    .dataframe thead th {\n",
       "        text-align: right;\n",
       "    }\n",
       "</style>\n",
       "<table border=\"1\" class=\"dataframe\">\n",
       "  <thead>\n",
       "    <tr style=\"text-align: right;\">\n",
       "      <th></th>\n",
       "      <th>ID</th>\n",
       "      <th>Name</th>\n",
       "      <th>Age</th>\n",
       "      <th>Grade</th>\n",
       "      <th>Subject</th>\n",
       "      <th>Score</th>\n",
       "    </tr>\n",
       "  </thead>\n",
       "  <tbody>\n",
       "    <tr>\n",
       "      <th>0</th>\n",
       "      <td>1</td>\n",
       "      <td>Alice</td>\n",
       "      <td>20.0</td>\n",
       "      <td>A</td>\n",
       "      <td>Math</td>\n",
       "      <td>85.0</td>\n",
       "    </tr>\n",
       "    <tr>\n",
       "      <th>1</th>\n",
       "      <td>2</td>\n",
       "      <td>Bob</td>\n",
       "      <td>NaN</td>\n",
       "      <td>B</td>\n",
       "      <td>Science</td>\n",
       "      <td>78.0</td>\n",
       "    </tr>\n",
       "    <tr>\n",
       "      <th>2</th>\n",
       "      <td>3</td>\n",
       "      <td>Charlie</td>\n",
       "      <td>19.0</td>\n",
       "      <td>C</td>\n",
       "      <td>Math</td>\n",
       "      <td>NaN</td>\n",
       "    </tr>\n",
       "    <tr>\n",
       "      <th>3</th>\n",
       "      <td>4</td>\n",
       "      <td>David</td>\n",
       "      <td>21.0</td>\n",
       "      <td>A</td>\n",
       "      <td>English</td>\n",
       "      <td>92.0</td>\n",
       "    </tr>\n",
       "    <tr>\n",
       "      <th>4</th>\n",
       "      <td>5</td>\n",
       "      <td>Eve</td>\n",
       "      <td>20.0</td>\n",
       "      <td>NaN</td>\n",
       "      <td>Science</td>\n",
       "      <td>88.0</td>\n",
       "    </tr>\n",
       "    <tr>\n",
       "      <th>5</th>\n",
       "      <td>6</td>\n",
       "      <td>Frank</td>\n",
       "      <td>22.0</td>\n",
       "      <td>B</td>\n",
       "      <td>Math</td>\n",
       "      <td>75.0</td>\n",
       "    </tr>\n",
       "    <tr>\n",
       "      <th>6</th>\n",
       "      <td>7</td>\n",
       "      <td>Grace</td>\n",
       "      <td>19.0</td>\n",
       "      <td>A</td>\n",
       "      <td>English</td>\n",
       "      <td>NaN</td>\n",
       "    </tr>\n",
       "    <tr>\n",
       "      <th>7</th>\n",
       "      <td>8</td>\n",
       "      <td>Hannah</td>\n",
       "      <td>NaN</td>\n",
       "      <td>C</td>\n",
       "      <td>Science</td>\n",
       "      <td>80.0</td>\n",
       "    </tr>\n",
       "    <tr>\n",
       "      <th>8</th>\n",
       "      <td>9</td>\n",
       "      <td>Ivy</td>\n",
       "      <td>20.0</td>\n",
       "      <td>B</td>\n",
       "      <td>Math</td>\n",
       "      <td>90.0</td>\n",
       "    </tr>\n",
       "    <tr>\n",
       "      <th>9</th>\n",
       "      <td>10</td>\n",
       "      <td>Jack</td>\n",
       "      <td>21.0</td>\n",
       "      <td>A</td>\n",
       "      <td>English</td>\n",
       "      <td>87.0</td>\n",
       "    </tr>\n",
       "  </tbody>\n",
       "</table>\n",
       "</div>"
      ],
      "text/plain": [
       "   ID     Name   Age Grade  Subject  Score\n",
       "0   1    Alice  20.0     A     Math   85.0\n",
       "1   2      Bob   NaN     B  Science   78.0\n",
       "2   3  Charlie  19.0     C     Math    NaN\n",
       "3   4    David  21.0     A  English   92.0\n",
       "4   5      Eve  20.0   NaN  Science   88.0\n",
       "5   6    Frank  22.0     B     Math   75.0\n",
       "6   7    Grace  19.0     A  English    NaN\n",
       "7   8   Hannah   NaN     C  Science   80.0\n",
       "8   9      Ivy  20.0     B     Math   90.0\n",
       "9  10     Jack  21.0     A  English   87.0"
      ]
     },
     "execution_count": 123,
     "metadata": {},
     "output_type": "execute_result"
    }
   ],
   "source": [
    "df2"
   ]
  },
  {
   "cell_type": "code",
   "execution_count": 124,
   "id": "89409762",
   "metadata": {},
   "outputs": [],
   "source": [
    "df2['Pass']=df['Score']>=80"
   ]
  },
  {
   "cell_type": "code",
   "execution_count": 125,
   "id": "9661a4e7",
   "metadata": {},
   "outputs": [
    {
     "data": {
      "text/html": [
       "<div>\n",
       "<style scoped>\n",
       "    .dataframe tbody tr th:only-of-type {\n",
       "        vertical-align: middle;\n",
       "    }\n",
       "\n",
       "    .dataframe tbody tr th {\n",
       "        vertical-align: top;\n",
       "    }\n",
       "\n",
       "    .dataframe thead th {\n",
       "        text-align: right;\n",
       "    }\n",
       "</style>\n",
       "<table border=\"1\" class=\"dataframe\">\n",
       "  <thead>\n",
       "    <tr style=\"text-align: right;\">\n",
       "      <th></th>\n",
       "      <th>ID</th>\n",
       "      <th>Name</th>\n",
       "      <th>Age</th>\n",
       "      <th>Grade</th>\n",
       "      <th>Subject</th>\n",
       "      <th>Score</th>\n",
       "      <th>Pass</th>\n",
       "    </tr>\n",
       "  </thead>\n",
       "  <tbody>\n",
       "    <tr>\n",
       "      <th>0</th>\n",
       "      <td>1</td>\n",
       "      <td>Alice</td>\n",
       "      <td>20.0</td>\n",
       "      <td>A</td>\n",
       "      <td>Math</td>\n",
       "      <td>85.0</td>\n",
       "      <td>True</td>\n",
       "    </tr>\n",
       "    <tr>\n",
       "      <th>1</th>\n",
       "      <td>2</td>\n",
       "      <td>Bob</td>\n",
       "      <td>NaN</td>\n",
       "      <td>B</td>\n",
       "      <td>Science</td>\n",
       "      <td>78.0</td>\n",
       "      <td>False</td>\n",
       "    </tr>\n",
       "    <tr>\n",
       "      <th>2</th>\n",
       "      <td>3</td>\n",
       "      <td>Charlie</td>\n",
       "      <td>19.0</td>\n",
       "      <td>C</td>\n",
       "      <td>Math</td>\n",
       "      <td>NaN</td>\n",
       "      <td>False</td>\n",
       "    </tr>\n",
       "    <tr>\n",
       "      <th>3</th>\n",
       "      <td>4</td>\n",
       "      <td>David</td>\n",
       "      <td>21.0</td>\n",
       "      <td>A</td>\n",
       "      <td>English</td>\n",
       "      <td>92.0</td>\n",
       "      <td>True</td>\n",
       "    </tr>\n",
       "    <tr>\n",
       "      <th>4</th>\n",
       "      <td>5</td>\n",
       "      <td>Eve</td>\n",
       "      <td>20.0</td>\n",
       "      <td>NaN</td>\n",
       "      <td>Science</td>\n",
       "      <td>88.0</td>\n",
       "      <td>True</td>\n",
       "    </tr>\n",
       "    <tr>\n",
       "      <th>5</th>\n",
       "      <td>6</td>\n",
       "      <td>Frank</td>\n",
       "      <td>22.0</td>\n",
       "      <td>B</td>\n",
       "      <td>Math</td>\n",
       "      <td>75.0</td>\n",
       "      <td>False</td>\n",
       "    </tr>\n",
       "    <tr>\n",
       "      <th>6</th>\n",
       "      <td>7</td>\n",
       "      <td>Grace</td>\n",
       "      <td>19.0</td>\n",
       "      <td>A</td>\n",
       "      <td>English</td>\n",
       "      <td>NaN</td>\n",
       "      <td>False</td>\n",
       "    </tr>\n",
       "    <tr>\n",
       "      <th>7</th>\n",
       "      <td>8</td>\n",
       "      <td>Hannah</td>\n",
       "      <td>NaN</td>\n",
       "      <td>C</td>\n",
       "      <td>Science</td>\n",
       "      <td>80.0</td>\n",
       "      <td>True</td>\n",
       "    </tr>\n",
       "    <tr>\n",
       "      <th>8</th>\n",
       "      <td>9</td>\n",
       "      <td>Ivy</td>\n",
       "      <td>20.0</td>\n",
       "      <td>B</td>\n",
       "      <td>Math</td>\n",
       "      <td>90.0</td>\n",
       "      <td>True</td>\n",
       "    </tr>\n",
       "    <tr>\n",
       "      <th>9</th>\n",
       "      <td>10</td>\n",
       "      <td>Jack</td>\n",
       "      <td>21.0</td>\n",
       "      <td>A</td>\n",
       "      <td>English</td>\n",
       "      <td>87.0</td>\n",
       "      <td>True</td>\n",
       "    </tr>\n",
       "  </tbody>\n",
       "</table>\n",
       "</div>"
      ],
      "text/plain": [
       "   ID     Name   Age Grade  Subject  Score   Pass\n",
       "0   1    Alice  20.0     A     Math   85.0   True\n",
       "1   2      Bob   NaN     B  Science   78.0  False\n",
       "2   3  Charlie  19.0     C     Math    NaN  False\n",
       "3   4    David  21.0     A  English   92.0   True\n",
       "4   5      Eve  20.0   NaN  Science   88.0   True\n",
       "5   6    Frank  22.0     B     Math   75.0  False\n",
       "6   7    Grace  19.0     A  English    NaN  False\n",
       "7   8   Hannah   NaN     C  Science   80.0   True\n",
       "8   9      Ivy  20.0     B     Math   90.0   True\n",
       "9  10     Jack  21.0     A  English   87.0   True"
      ]
     },
     "execution_count": 125,
     "metadata": {},
     "output_type": "execute_result"
    }
   ],
   "source": [
    "df2"
   ]
  },
  {
   "cell_type": "code",
   "execution_count": 126,
   "id": "0090bf9a",
   "metadata": {},
   "outputs": [],
   "source": [
    "new_df2=df.drop(columns=['Age'])"
   ]
  },
  {
   "cell_type": "code",
   "execution_count": 127,
   "id": "ee4a7080",
   "metadata": {},
   "outputs": [
    {
     "data": {
      "text/html": [
       "<div>\n",
       "<style scoped>\n",
       "    .dataframe tbody tr th:only-of-type {\n",
       "        vertical-align: middle;\n",
       "    }\n",
       "\n",
       "    .dataframe tbody tr th {\n",
       "        vertical-align: top;\n",
       "    }\n",
       "\n",
       "    .dataframe thead th {\n",
       "        text-align: right;\n",
       "    }\n",
       "</style>\n",
       "<table border=\"1\" class=\"dataframe\">\n",
       "  <thead>\n",
       "    <tr style=\"text-align: right;\">\n",
       "      <th></th>\n",
       "      <th>ID</th>\n",
       "      <th>Name</th>\n",
       "      <th>Grade</th>\n",
       "      <th>Subject</th>\n",
       "      <th>Score</th>\n",
       "    </tr>\n",
       "  </thead>\n",
       "  <tbody>\n",
       "    <tr>\n",
       "      <th>0</th>\n",
       "      <td>1</td>\n",
       "      <td>Alice</td>\n",
       "      <td>A</td>\n",
       "      <td>Math</td>\n",
       "      <td>85.0</td>\n",
       "    </tr>\n",
       "    <tr>\n",
       "      <th>1</th>\n",
       "      <td>2</td>\n",
       "      <td>Bob</td>\n",
       "      <td>B</td>\n",
       "      <td>Science</td>\n",
       "      <td>78.0</td>\n",
       "    </tr>\n",
       "    <tr>\n",
       "      <th>2</th>\n",
       "      <td>3</td>\n",
       "      <td>Charlie</td>\n",
       "      <td>C</td>\n",
       "      <td>Math</td>\n",
       "      <td>NaN</td>\n",
       "    </tr>\n",
       "    <tr>\n",
       "      <th>3</th>\n",
       "      <td>4</td>\n",
       "      <td>David</td>\n",
       "      <td>A</td>\n",
       "      <td>English</td>\n",
       "      <td>92.0</td>\n",
       "    </tr>\n",
       "    <tr>\n",
       "      <th>4</th>\n",
       "      <td>5</td>\n",
       "      <td>Eve</td>\n",
       "      <td>NaN</td>\n",
       "      <td>Science</td>\n",
       "      <td>88.0</td>\n",
       "    </tr>\n",
       "    <tr>\n",
       "      <th>5</th>\n",
       "      <td>6</td>\n",
       "      <td>Frank</td>\n",
       "      <td>B</td>\n",
       "      <td>Math</td>\n",
       "      <td>75.0</td>\n",
       "    </tr>\n",
       "    <tr>\n",
       "      <th>6</th>\n",
       "      <td>7</td>\n",
       "      <td>Grace</td>\n",
       "      <td>A</td>\n",
       "      <td>English</td>\n",
       "      <td>NaN</td>\n",
       "    </tr>\n",
       "    <tr>\n",
       "      <th>7</th>\n",
       "      <td>8</td>\n",
       "      <td>Hannah</td>\n",
       "      <td>C</td>\n",
       "      <td>Science</td>\n",
       "      <td>80.0</td>\n",
       "    </tr>\n",
       "    <tr>\n",
       "      <th>8</th>\n",
       "      <td>9</td>\n",
       "      <td>Ivy</td>\n",
       "      <td>B</td>\n",
       "      <td>Math</td>\n",
       "      <td>90.0</td>\n",
       "    </tr>\n",
       "    <tr>\n",
       "      <th>9</th>\n",
       "      <td>10</td>\n",
       "      <td>Jack</td>\n",
       "      <td>A</td>\n",
       "      <td>English</td>\n",
       "      <td>87.0</td>\n",
       "    </tr>\n",
       "  </tbody>\n",
       "</table>\n",
       "</div>"
      ],
      "text/plain": [
       "   ID     Name Grade  Subject  Score\n",
       "0   1    Alice     A     Math   85.0\n",
       "1   2      Bob     B  Science   78.0\n",
       "2   3  Charlie     C     Math    NaN\n",
       "3   4    David     A  English   92.0\n",
       "4   5      Eve   NaN  Science   88.0\n",
       "5   6    Frank     B     Math   75.0\n",
       "6   7    Grace     A  English    NaN\n",
       "7   8   Hannah     C  Science   80.0\n",
       "8   9      Ivy     B     Math   90.0\n",
       "9  10     Jack     A  English   87.0"
      ]
     },
     "execution_count": 127,
     "metadata": {},
     "output_type": "execute_result"
    }
   ],
   "source": [
    "new_df2"
   ]
  },
  {
   "cell_type": "code",
   "execution_count": 128,
   "id": "69b110f5",
   "metadata": {},
   "outputs": [
    {
     "data": {
      "text/html": [
       "<div>\n",
       "<style scoped>\n",
       "    .dataframe tbody tr th:only-of-type {\n",
       "        vertical-align: middle;\n",
       "    }\n",
       "\n",
       "    .dataframe tbody tr th {\n",
       "        vertical-align: top;\n",
       "    }\n",
       "\n",
       "    .dataframe thead th {\n",
       "        text-align: right;\n",
       "    }\n",
       "</style>\n",
       "<table border=\"1\" class=\"dataframe\">\n",
       "  <thead>\n",
       "    <tr style=\"text-align: right;\">\n",
       "      <th></th>\n",
       "      <th>ID</th>\n",
       "      <th>Name</th>\n",
       "      <th>Age</th>\n",
       "      <th>Grade</th>\n",
       "      <th>Subject</th>\n",
       "      <th>Score</th>\n",
       "    </tr>\n",
       "  </thead>\n",
       "  <tbody>\n",
       "    <tr>\n",
       "      <th>5</th>\n",
       "      <td>6</td>\n",
       "      <td>Frank</td>\n",
       "      <td>22.0</td>\n",
       "      <td>B</td>\n",
       "      <td>Math</td>\n",
       "      <td>75.0</td>\n",
       "    </tr>\n",
       "    <tr>\n",
       "      <th>1</th>\n",
       "      <td>2</td>\n",
       "      <td>Bob</td>\n",
       "      <td>NaN</td>\n",
       "      <td>B</td>\n",
       "      <td>Science</td>\n",
       "      <td>78.0</td>\n",
       "    </tr>\n",
       "    <tr>\n",
       "      <th>7</th>\n",
       "      <td>8</td>\n",
       "      <td>Hannah</td>\n",
       "      <td>NaN</td>\n",
       "      <td>C</td>\n",
       "      <td>Science</td>\n",
       "      <td>80.0</td>\n",
       "    </tr>\n",
       "    <tr>\n",
       "      <th>0</th>\n",
       "      <td>1</td>\n",
       "      <td>Alice</td>\n",
       "      <td>20.0</td>\n",
       "      <td>A</td>\n",
       "      <td>Math</td>\n",
       "      <td>85.0</td>\n",
       "    </tr>\n",
       "    <tr>\n",
       "      <th>9</th>\n",
       "      <td>10</td>\n",
       "      <td>Jack</td>\n",
       "      <td>21.0</td>\n",
       "      <td>A</td>\n",
       "      <td>English</td>\n",
       "      <td>87.0</td>\n",
       "    </tr>\n",
       "    <tr>\n",
       "      <th>4</th>\n",
       "      <td>5</td>\n",
       "      <td>Eve</td>\n",
       "      <td>20.0</td>\n",
       "      <td>NaN</td>\n",
       "      <td>Science</td>\n",
       "      <td>88.0</td>\n",
       "    </tr>\n",
       "    <tr>\n",
       "      <th>8</th>\n",
       "      <td>9</td>\n",
       "      <td>Ivy</td>\n",
       "      <td>20.0</td>\n",
       "      <td>B</td>\n",
       "      <td>Math</td>\n",
       "      <td>90.0</td>\n",
       "    </tr>\n",
       "    <tr>\n",
       "      <th>3</th>\n",
       "      <td>4</td>\n",
       "      <td>David</td>\n",
       "      <td>21.0</td>\n",
       "      <td>A</td>\n",
       "      <td>English</td>\n",
       "      <td>92.0</td>\n",
       "    </tr>\n",
       "    <tr>\n",
       "      <th>2</th>\n",
       "      <td>3</td>\n",
       "      <td>Charlie</td>\n",
       "      <td>19.0</td>\n",
       "      <td>C</td>\n",
       "      <td>Math</td>\n",
       "      <td>NaN</td>\n",
       "    </tr>\n",
       "    <tr>\n",
       "      <th>6</th>\n",
       "      <td>7</td>\n",
       "      <td>Grace</td>\n",
       "      <td>19.0</td>\n",
       "      <td>A</td>\n",
       "      <td>English</td>\n",
       "      <td>NaN</td>\n",
       "    </tr>\n",
       "  </tbody>\n",
       "</table>\n",
       "</div>"
      ],
      "text/plain": [
       "   ID     Name   Age Grade  Subject  Score\n",
       "5   6    Frank  22.0     B     Math   75.0\n",
       "1   2      Bob   NaN     B  Science   78.0\n",
       "7   8   Hannah   NaN     C  Science   80.0\n",
       "0   1    Alice  20.0     A     Math   85.0\n",
       "9  10     Jack  21.0     A  English   87.0\n",
       "4   5      Eve  20.0   NaN  Science   88.0\n",
       "8   9      Ivy  20.0     B     Math   90.0\n",
       "3   4    David  21.0     A  English   92.0\n",
       "2   3  Charlie  19.0     C     Math    NaN\n",
       "6   7    Grace  19.0     A  English    NaN"
      ]
     },
     "execution_count": 128,
     "metadata": {},
     "output_type": "execute_result"
    }
   ],
   "source": [
    "df=df.sort_values('Score')\n",
    "df"
   ]
  },
  {
   "cell_type": "code",
   "execution_count": 129,
   "id": "bfa819aa",
   "metadata": {},
   "outputs": [
    {
     "data": {
      "text/html": [
       "<div>\n",
       "<style scoped>\n",
       "    .dataframe tbody tr th:only-of-type {\n",
       "        vertical-align: middle;\n",
       "    }\n",
       "\n",
       "    .dataframe tbody tr th {\n",
       "        vertical-align: top;\n",
       "    }\n",
       "\n",
       "    .dataframe thead th {\n",
       "        text-align: right;\n",
       "    }\n",
       "</style>\n",
       "<table border=\"1\" class=\"dataframe\">\n",
       "  <thead>\n",
       "    <tr style=\"text-align: right;\">\n",
       "      <th></th>\n",
       "      <th>ID</th>\n",
       "      <th>Name</th>\n",
       "      <th>Age</th>\n",
       "      <th>Grade</th>\n",
       "      <th>Subject</th>\n",
       "      <th>Score</th>\n",
       "    </tr>\n",
       "  </thead>\n",
       "  <tbody>\n",
       "    <tr>\n",
       "      <th>3</th>\n",
       "      <td>4</td>\n",
       "      <td>David</td>\n",
       "      <td>21.0</td>\n",
       "      <td>A</td>\n",
       "      <td>English</td>\n",
       "      <td>92.0</td>\n",
       "    </tr>\n",
       "    <tr>\n",
       "      <th>8</th>\n",
       "      <td>9</td>\n",
       "      <td>Ivy</td>\n",
       "      <td>20.0</td>\n",
       "      <td>B</td>\n",
       "      <td>Math</td>\n",
       "      <td>90.0</td>\n",
       "    </tr>\n",
       "    <tr>\n",
       "      <th>4</th>\n",
       "      <td>5</td>\n",
       "      <td>Eve</td>\n",
       "      <td>20.0</td>\n",
       "      <td>NaN</td>\n",
       "      <td>Science</td>\n",
       "      <td>88.0</td>\n",
       "    </tr>\n",
       "    <tr>\n",
       "      <th>9</th>\n",
       "      <td>10</td>\n",
       "      <td>Jack</td>\n",
       "      <td>21.0</td>\n",
       "      <td>A</td>\n",
       "      <td>English</td>\n",
       "      <td>87.0</td>\n",
       "    </tr>\n",
       "    <tr>\n",
       "      <th>0</th>\n",
       "      <td>1</td>\n",
       "      <td>Alice</td>\n",
       "      <td>20.0</td>\n",
       "      <td>A</td>\n",
       "      <td>Math</td>\n",
       "      <td>85.0</td>\n",
       "    </tr>\n",
       "    <tr>\n",
       "      <th>7</th>\n",
       "      <td>8</td>\n",
       "      <td>Hannah</td>\n",
       "      <td>NaN</td>\n",
       "      <td>C</td>\n",
       "      <td>Science</td>\n",
       "      <td>80.0</td>\n",
       "    </tr>\n",
       "    <tr>\n",
       "      <th>1</th>\n",
       "      <td>2</td>\n",
       "      <td>Bob</td>\n",
       "      <td>NaN</td>\n",
       "      <td>B</td>\n",
       "      <td>Science</td>\n",
       "      <td>78.0</td>\n",
       "    </tr>\n",
       "    <tr>\n",
       "      <th>5</th>\n",
       "      <td>6</td>\n",
       "      <td>Frank</td>\n",
       "      <td>22.0</td>\n",
       "      <td>B</td>\n",
       "      <td>Math</td>\n",
       "      <td>75.0</td>\n",
       "    </tr>\n",
       "    <tr>\n",
       "      <th>6</th>\n",
       "      <td>7</td>\n",
       "      <td>Grace</td>\n",
       "      <td>19.0</td>\n",
       "      <td>A</td>\n",
       "      <td>English</td>\n",
       "      <td>NaN</td>\n",
       "    </tr>\n",
       "    <tr>\n",
       "      <th>2</th>\n",
       "      <td>3</td>\n",
       "      <td>Charlie</td>\n",
       "      <td>19.0</td>\n",
       "      <td>C</td>\n",
       "      <td>Math</td>\n",
       "      <td>NaN</td>\n",
       "    </tr>\n",
       "  </tbody>\n",
       "</table>\n",
       "</div>"
      ],
      "text/plain": [
       "   ID     Name   Age Grade  Subject  Score\n",
       "3   4    David  21.0     A  English   92.0\n",
       "8   9      Ivy  20.0     B     Math   90.0\n",
       "4   5      Eve  20.0   NaN  Science   88.0\n",
       "9  10     Jack  21.0     A  English   87.0\n",
       "0   1    Alice  20.0     A     Math   85.0\n",
       "7   8   Hannah   NaN     C  Science   80.0\n",
       "1   2      Bob   NaN     B  Science   78.0\n",
       "5   6    Frank  22.0     B     Math   75.0\n",
       "6   7    Grace  19.0     A  English    NaN\n",
       "2   3  Charlie  19.0     C     Math    NaN"
      ]
     },
     "execution_count": 129,
     "metadata": {},
     "output_type": "execute_result"
    }
   ],
   "source": [
    "df_sorted=df.sort_values(['Score','Subject'],ascending=[False,True])\n",
    "\n",
    "df_sorted"
   ]
  },
  {
   "cell_type": "code",
   "execution_count": 130,
   "id": "581f10a6",
   "metadata": {},
   "outputs": [],
   "source": [
    "new_df = df.copy()\n",
    "\n",
    "# Handle missing Score values (e.g., fill with 0)\n",
    "new_df['Score'] = new_df['Score'].fillna(0)"
   ]
  },
  {
   "cell_type": "code",
   "execution_count": 131,
   "id": "fd668638",
   "metadata": {},
   "outputs": [],
   "source": [
    "import numpy as np"
   ]
  },
  {
   "cell_type": "code",
   "execution_count": 132,
   "id": "96cf1220",
   "metadata": {},
   "outputs": [
    {
     "name": "stdout",
     "output_type": "stream",
     "text": [
      "Score_Category\n",
      "High      5\n",
      "Medium    3\n",
      "Low       2\n",
      "Name: count, dtype: int64\n",
      "      Name  Score Score_Category\n",
      "5    Frank   75.0         Medium\n",
      "1      Bob   78.0         Medium\n",
      "7   Hannah   80.0         Medium\n",
      "0    Alice   85.0           High\n",
      "9     Jack   87.0           High\n",
      "4      Eve   88.0           High\n",
      "8      Ivy   90.0           High\n",
      "3    David   92.0           High\n",
      "2  Charlie    0.0            Low\n",
      "6    Grace    0.0            Low\n"
     ]
    }
   ],
   "source": [
    "conditions = [\n",
    "    (new_df['Score'] >= 85),\n",
    "    (new_df['Score'].between(70, 84)),\n",
    "    (new_df['Score'] < 70)\n",
    "]\n",
    "choices = ['High', 'Medium', 'Low']\n",
    "new_df['Score_Category'] = np.select(conditions, choices, default='Unknown')\n",
    "\n",
    "# Verify\n",
    "print(new_df['Score_Category'].value_counts())\n",
    "print(new_df[['Name', 'Score', 'Score_Category']])"
   ]
  },
  {
   "cell_type": "code",
   "execution_count": 133,
   "id": "cd34fd92",
   "metadata": {},
   "outputs": [
    {
     "name": "stdout",
     "output_type": "stream",
     "text": [
      "['Fail', 'Pass', 'Good', 'Excellent', 'Excellent']\n",
      "Categories (4, object): ['Fail' < 'Pass' < 'Good' < 'Excellent']\n"
     ]
    }
   ],
   "source": [
    "# pd.cut is a pandas function used to segment and sort data values into discrete bins.\n",
    "# It is often used to convert continuous numerical data into categorical data.\n",
    "\n",
    "# Example usage:\n",
    "scores = [55, 65, 75, 85, 95]\n",
    "bins = [0, 60, 70, 80, 100]\n",
    "labels = ['Fail', 'Pass', 'Good', 'Excellent']\n",
    "\n",
    "categories = pd.cut(scores, bins=bins, labels=labels)\n",
    "print(categories)"
   ]
  },
  {
   "cell_type": "markdown",
   "id": "ab257775",
   "metadata": {},
   "source": [
    " Grouping and Aggregation in Pandas"
   ]
  },
  {
   "cell_type": "code",
   "execution_count": 134,
   "id": "b5e5f437",
   "metadata": {},
   "outputs": [
    {
     "data": {
      "text/html": [
       "<div>\n",
       "<style scoped>\n",
       "    .dataframe tbody tr th:only-of-type {\n",
       "        vertical-align: middle;\n",
       "    }\n",
       "\n",
       "    .dataframe tbody tr th {\n",
       "        vertical-align: top;\n",
       "    }\n",
       "\n",
       "    .dataframe thead th {\n",
       "        text-align: right;\n",
       "    }\n",
       "</style>\n",
       "<table border=\"1\" class=\"dataframe\">\n",
       "  <thead>\n",
       "    <tr style=\"text-align: right;\">\n",
       "      <th></th>\n",
       "      <th>ID</th>\n",
       "      <th>Name</th>\n",
       "      <th>Age</th>\n",
       "      <th>Grade</th>\n",
       "      <th>Subject</th>\n",
       "      <th>Score</th>\n",
       "    </tr>\n",
       "  </thead>\n",
       "  <tbody>\n",
       "    <tr>\n",
       "      <th>5</th>\n",
       "      <td>6</td>\n",
       "      <td>Frank</td>\n",
       "      <td>22.0</td>\n",
       "      <td>B</td>\n",
       "      <td>Math</td>\n",
       "      <td>75.0</td>\n",
       "    </tr>\n",
       "    <tr>\n",
       "      <th>1</th>\n",
       "      <td>2</td>\n",
       "      <td>Bob</td>\n",
       "      <td>NaN</td>\n",
       "      <td>B</td>\n",
       "      <td>Science</td>\n",
       "      <td>78.0</td>\n",
       "    </tr>\n",
       "    <tr>\n",
       "      <th>7</th>\n",
       "      <td>8</td>\n",
       "      <td>Hannah</td>\n",
       "      <td>NaN</td>\n",
       "      <td>C</td>\n",
       "      <td>Science</td>\n",
       "      <td>80.0</td>\n",
       "    </tr>\n",
       "    <tr>\n",
       "      <th>0</th>\n",
       "      <td>1</td>\n",
       "      <td>Alice</td>\n",
       "      <td>20.0</td>\n",
       "      <td>A</td>\n",
       "      <td>Math</td>\n",
       "      <td>85.0</td>\n",
       "    </tr>\n",
       "    <tr>\n",
       "      <th>9</th>\n",
       "      <td>10</td>\n",
       "      <td>Jack</td>\n",
       "      <td>21.0</td>\n",
       "      <td>A</td>\n",
       "      <td>English</td>\n",
       "      <td>87.0</td>\n",
       "    </tr>\n",
       "    <tr>\n",
       "      <th>4</th>\n",
       "      <td>5</td>\n",
       "      <td>Eve</td>\n",
       "      <td>20.0</td>\n",
       "      <td>NaN</td>\n",
       "      <td>Science</td>\n",
       "      <td>88.0</td>\n",
       "    </tr>\n",
       "    <tr>\n",
       "      <th>8</th>\n",
       "      <td>9</td>\n",
       "      <td>Ivy</td>\n",
       "      <td>20.0</td>\n",
       "      <td>B</td>\n",
       "      <td>Math</td>\n",
       "      <td>90.0</td>\n",
       "    </tr>\n",
       "    <tr>\n",
       "      <th>3</th>\n",
       "      <td>4</td>\n",
       "      <td>David</td>\n",
       "      <td>21.0</td>\n",
       "      <td>A</td>\n",
       "      <td>English</td>\n",
       "      <td>92.0</td>\n",
       "    </tr>\n",
       "    <tr>\n",
       "      <th>2</th>\n",
       "      <td>3</td>\n",
       "      <td>Charlie</td>\n",
       "      <td>19.0</td>\n",
       "      <td>C</td>\n",
       "      <td>Math</td>\n",
       "      <td>NaN</td>\n",
       "    </tr>\n",
       "    <tr>\n",
       "      <th>6</th>\n",
       "      <td>7</td>\n",
       "      <td>Grace</td>\n",
       "      <td>19.0</td>\n",
       "      <td>A</td>\n",
       "      <td>English</td>\n",
       "      <td>NaN</td>\n",
       "    </tr>\n",
       "  </tbody>\n",
       "</table>\n",
       "</div>"
      ],
      "text/plain": [
       "   ID     Name   Age Grade  Subject  Score\n",
       "5   6    Frank  22.0     B     Math   75.0\n",
       "1   2      Bob   NaN     B  Science   78.0\n",
       "7   8   Hannah   NaN     C  Science   80.0\n",
       "0   1    Alice  20.0     A     Math   85.0\n",
       "9  10     Jack  21.0     A  English   87.0\n",
       "4   5      Eve  20.0   NaN  Science   88.0\n",
       "8   9      Ivy  20.0     B     Math   90.0\n",
       "3   4    David  21.0     A  English   92.0\n",
       "2   3  Charlie  19.0     C     Math    NaN\n",
       "6   7    Grace  19.0     A  English    NaN"
      ]
     },
     "execution_count": 134,
     "metadata": {},
     "output_type": "execute_result"
    }
   ],
   "source": [
    "df"
   ]
  },
  {
   "cell_type": "code",
   "execution_count": 135,
   "id": "c615fd15",
   "metadata": {},
   "outputs": [
    {
     "name": "stdout",
     "output_type": "stream",
     "text": [
      "Subject\n",
      "English    89.500000\n",
      "Math       83.333333\n",
      "Science    82.000000\n",
      "Name: Score, dtype: float64\n",
      "\n"
     ]
    }
   ],
   "source": [
    "mean_score_by_subject = df.groupby('Subject')['Score'].mean()\n",
    "print(mean_score_by_subject)\n",
    "print()\n"
   ]
  },
  {
   "cell_type": "code",
   "execution_count": 136,
   "id": "1888f907",
   "metadata": {},
   "outputs": [
    {
     "name": "stdout",
     "output_type": "stream",
     "text": [
      "Grade\n",
      "A    4\n",
      "B    3\n",
      "C    2\n",
      "Name: ID, dtype: int64\n",
      "\n"
     ]
    },
    {
     "name": "stderr",
     "output_type": "stream",
     "text": [
      "C:\\Users\\ATHARV\\AppData\\Local\\Temp\\ipykernel_2932\\22053159.py:1: FutureWarning: The default of observed=False is deprecated and will be changed to True in a future version of pandas. Pass observed=False to retain current behavior or observed=True to adopt the future default and silence this warning.\n",
      "  student_count_by_grade = df.groupby('Grade')['ID'].count()\n"
     ]
    }
   ],
   "source": [
    "student_count_by_grade = df.groupby('Grade')['ID'].count()\n",
    "print(student_count_by_grade)\n",
    "print()"
   ]
  },
  {
   "cell_type": "code",
   "execution_count": 137,
   "id": "4b233572",
   "metadata": {},
   "outputs": [
    {
     "name": "stdout",
     "output_type": "stream",
     "text": [
      "              mean   max\n",
      "Subject                 \n",
      "English  89.500000  92.0\n",
      "Math     83.333333  90.0\n",
      "Science  82.000000  88.0\n",
      "\n"
     ]
    }
   ],
   "source": [
    "score_agg_by_subject = df.groupby('Subject')['Score'].agg(['mean', 'max'])\n",
    "print(score_agg_by_subject)\n",
    "print()\n"
   ]
  },
  {
   "cell_type": "code",
   "execution_count": 138,
   "id": "19657f9c",
   "metadata": {},
   "outputs": [
    {
     "name": "stdout",
     "output_type": "stream",
     "text": [
      "Task 2b: Average Age by Subject and Grade\n",
      "Subject  Grade\n",
      "English  A        20.333333\n",
      "         B              NaN\n",
      "         C              NaN\n",
      "Math     A        20.000000\n",
      "         B        21.000000\n",
      "         C        19.000000\n",
      "Science  A              NaN\n",
      "         B              NaN\n",
      "         C              NaN\n",
      "Name: Age, dtype: float64\n",
      "\n"
     ]
    },
    {
     "name": "stderr",
     "output_type": "stream",
     "text": [
      "C:\\Users\\ATHARV\\AppData\\Local\\Temp\\ipykernel_2932\\3244898273.py:2: FutureWarning: The default of observed=False is deprecated and will be changed to True in a future version of pandas. Pass observed=False to retain current behavior or observed=True to adopt the future default and silence this warning.\n",
      "  avg_age_by_subject_grade = df.groupby(['Subject', 'Grade'])['Age'].mean()\n"
     ]
    }
   ],
   "source": [
    "print(\"Task 2b: Average Age by Subject and Grade\")\n",
    "avg_age_by_subject_grade = df.groupby(['Subject', 'Grade'])['Age'].mean()\n",
    "print(avg_age_by_subject_grade)\n",
    "print()\n"
   ]
  },
  {
   "cell_type": "code",
   "execution_count": 139,
   "id": "6b4bd87d",
   "metadata": {},
   "outputs": [
    {
     "name": "stdout",
     "output_type": "stream",
     "text": [
      "Task 3a: Rows where Subject is 'Math'\n",
      "   ID     Name   Age Grade Subject  Score\n",
      "5   6    Frank  22.0     B    Math   75.0\n",
      "0   1    Alice  20.0     A    Math   85.0\n",
      "8   9      Ivy  20.0     B    Math   90.0\n",
      "2   3  Charlie  19.0     C    Math    NaN\n",
      "\n"
     ]
    }
   ],
   "source": [
    "print(\"Task 3a: Rows where Subject is 'Math'\")\n",
    "math_group = df.groupby('Subject').get_group('Math')\n",
    "print(math_group)\n",
    "print()\n"
   ]
  },
  {
   "cell_type": "code",
   "execution_count": 140,
   "id": "385cc1c1",
   "metadata": {},
   "outputs": [
    {
     "name": "stdout",
     "output_type": "stream",
     "text": [
      "Task 3b: Number of Rows per Subject\n",
      "Subject\n",
      "English    3\n",
      "Math       4\n",
      "Science    3\n",
      "dtype: int64\n"
     ]
    }
   ],
   "source": [
    "print(\"Task 3b: Number of Rows per Subject\")\n",
    "subject_counts = df.groupby('Subject').size()\n",
    "print(subject_counts)"
   ]
  },
  {
   "cell_type": "code",
   "execution_count": 141,
   "id": "8dfb9940",
   "metadata": {},
   "outputs": [],
   "source": [
    "import pandas as pd\n",
    "contact_data = {\n",
    "    'ID': [1, 3, 5, 11],\n",
    "    'Email': ['alice@university.com', 'charlie@university.com', 'eve@university.com', 'john@university.com']\n",
    "}\n",
    "contact_df = pd.DataFrame(contact_data)"
   ]
  },
  {
   "cell_type": "code",
   "execution_count": 142,
   "id": "9cb7e53a",
   "metadata": {},
   "outputs": [
    {
     "data": {
      "text/html": [
       "<div>\n",
       "<style scoped>\n",
       "    .dataframe tbody tr th:only-of-type {\n",
       "        vertical-align: middle;\n",
       "    }\n",
       "\n",
       "    .dataframe tbody tr th {\n",
       "        vertical-align: top;\n",
       "    }\n",
       "\n",
       "    .dataframe thead th {\n",
       "        text-align: right;\n",
       "    }\n",
       "</style>\n",
       "<table border=\"1\" class=\"dataframe\">\n",
       "  <thead>\n",
       "    <tr style=\"text-align: right;\">\n",
       "      <th></th>\n",
       "      <th>ID</th>\n",
       "      <th>Name</th>\n",
       "      <th>Age</th>\n",
       "      <th>Grade</th>\n",
       "      <th>Subject</th>\n",
       "      <th>Score</th>\n",
       "      <th>Email</th>\n",
       "    </tr>\n",
       "  </thead>\n",
       "  <tbody>\n",
       "    <tr>\n",
       "      <th>0</th>\n",
       "      <td>1</td>\n",
       "      <td>Alice</td>\n",
       "      <td>20.0</td>\n",
       "      <td>A</td>\n",
       "      <td>Math</td>\n",
       "      <td>85.0</td>\n",
       "      <td>alice@university.com</td>\n",
       "    </tr>\n",
       "    <tr>\n",
       "      <th>1</th>\n",
       "      <td>5</td>\n",
       "      <td>Eve</td>\n",
       "      <td>20.0</td>\n",
       "      <td>NaN</td>\n",
       "      <td>Science</td>\n",
       "      <td>88.0</td>\n",
       "      <td>eve@university.com</td>\n",
       "    </tr>\n",
       "    <tr>\n",
       "      <th>2</th>\n",
       "      <td>3</td>\n",
       "      <td>Charlie</td>\n",
       "      <td>19.0</td>\n",
       "      <td>C</td>\n",
       "      <td>Math</td>\n",
       "      <td>NaN</td>\n",
       "      <td>charlie@university.com</td>\n",
       "    </tr>\n",
       "  </tbody>\n",
       "</table>\n",
       "</div>"
      ],
      "text/plain": [
       "   ID     Name   Age Grade  Subject  Score                   Email\n",
       "0   1    Alice  20.0     A     Math   85.0    alice@university.com\n",
       "1   5      Eve  20.0   NaN  Science   88.0      eve@university.com\n",
       "2   3  Charlie  19.0     C     Math    NaN  charlie@university.com"
      ]
     },
     "execution_count": 142,
     "metadata": {},
     "output_type": "execute_result"
    }
   ],
   "source": [
    "# Merge the two DataFrames on ID using an inner join and print the result.\n",
    "\n",
    "pd.merge(df,contact_df,on='ID',how='inner')"
   ]
  },
  {
   "cell_type": "code",
   "execution_count": 143,
   "id": "1d323798",
   "metadata": {},
   "outputs": [
    {
     "data": {
      "text/html": [
       "<div>\n",
       "<style scoped>\n",
       "    .dataframe tbody tr th:only-of-type {\n",
       "        vertical-align: middle;\n",
       "    }\n",
       "\n",
       "    .dataframe tbody tr th {\n",
       "        vertical-align: top;\n",
       "    }\n",
       "\n",
       "    .dataframe thead th {\n",
       "        text-align: right;\n",
       "    }\n",
       "</style>\n",
       "<table border=\"1\" class=\"dataframe\">\n",
       "  <thead>\n",
       "    <tr style=\"text-align: right;\">\n",
       "      <th></th>\n",
       "      <th>ID</th>\n",
       "      <th>Name</th>\n",
       "      <th>Age</th>\n",
       "      <th>Grade</th>\n",
       "      <th>Subject</th>\n",
       "      <th>Score</th>\n",
       "      <th>Email</th>\n",
       "    </tr>\n",
       "  </thead>\n",
       "  <tbody>\n",
       "    <tr>\n",
       "      <th>0</th>\n",
       "      <td>6</td>\n",
       "      <td>Frank</td>\n",
       "      <td>22.0</td>\n",
       "      <td>B</td>\n",
       "      <td>Math</td>\n",
       "      <td>75.0</td>\n",
       "      <td>NaN</td>\n",
       "    </tr>\n",
       "    <tr>\n",
       "      <th>1</th>\n",
       "      <td>2</td>\n",
       "      <td>Bob</td>\n",
       "      <td>NaN</td>\n",
       "      <td>B</td>\n",
       "      <td>Science</td>\n",
       "      <td>78.0</td>\n",
       "      <td>NaN</td>\n",
       "    </tr>\n",
       "    <tr>\n",
       "      <th>2</th>\n",
       "      <td>8</td>\n",
       "      <td>Hannah</td>\n",
       "      <td>NaN</td>\n",
       "      <td>C</td>\n",
       "      <td>Science</td>\n",
       "      <td>80.0</td>\n",
       "      <td>NaN</td>\n",
       "    </tr>\n",
       "    <tr>\n",
       "      <th>3</th>\n",
       "      <td>1</td>\n",
       "      <td>Alice</td>\n",
       "      <td>20.0</td>\n",
       "      <td>A</td>\n",
       "      <td>Math</td>\n",
       "      <td>85.0</td>\n",
       "      <td>alice@university.com</td>\n",
       "    </tr>\n",
       "    <tr>\n",
       "      <th>4</th>\n",
       "      <td>10</td>\n",
       "      <td>Jack</td>\n",
       "      <td>21.0</td>\n",
       "      <td>A</td>\n",
       "      <td>English</td>\n",
       "      <td>87.0</td>\n",
       "      <td>NaN</td>\n",
       "    </tr>\n",
       "    <tr>\n",
       "      <th>5</th>\n",
       "      <td>5</td>\n",
       "      <td>Eve</td>\n",
       "      <td>20.0</td>\n",
       "      <td>NaN</td>\n",
       "      <td>Science</td>\n",
       "      <td>88.0</td>\n",
       "      <td>eve@university.com</td>\n",
       "    </tr>\n",
       "    <tr>\n",
       "      <th>6</th>\n",
       "      <td>9</td>\n",
       "      <td>Ivy</td>\n",
       "      <td>20.0</td>\n",
       "      <td>B</td>\n",
       "      <td>Math</td>\n",
       "      <td>90.0</td>\n",
       "      <td>NaN</td>\n",
       "    </tr>\n",
       "    <tr>\n",
       "      <th>7</th>\n",
       "      <td>4</td>\n",
       "      <td>David</td>\n",
       "      <td>21.0</td>\n",
       "      <td>A</td>\n",
       "      <td>English</td>\n",
       "      <td>92.0</td>\n",
       "      <td>NaN</td>\n",
       "    </tr>\n",
       "    <tr>\n",
       "      <th>8</th>\n",
       "      <td>3</td>\n",
       "      <td>Charlie</td>\n",
       "      <td>19.0</td>\n",
       "      <td>C</td>\n",
       "      <td>Math</td>\n",
       "      <td>NaN</td>\n",
       "      <td>charlie@university.com</td>\n",
       "    </tr>\n",
       "    <tr>\n",
       "      <th>9</th>\n",
       "      <td>7</td>\n",
       "      <td>Grace</td>\n",
       "      <td>19.0</td>\n",
       "      <td>A</td>\n",
       "      <td>English</td>\n",
       "      <td>NaN</td>\n",
       "      <td>NaN</td>\n",
       "    </tr>\n",
       "  </tbody>\n",
       "</table>\n",
       "</div>"
      ],
      "text/plain": [
       "   ID     Name   Age Grade  Subject  Score                   Email\n",
       "0   6    Frank  22.0     B     Math   75.0                     NaN\n",
       "1   2      Bob   NaN     B  Science   78.0                     NaN\n",
       "2   8   Hannah   NaN     C  Science   80.0                     NaN\n",
       "3   1    Alice  20.0     A     Math   85.0    alice@university.com\n",
       "4  10     Jack  21.0     A  English   87.0                     NaN\n",
       "5   5      Eve  20.0   NaN  Science   88.0      eve@university.com\n",
       "6   9      Ivy  20.0     B     Math   90.0                     NaN\n",
       "7   4    David  21.0     A  English   92.0                     NaN\n",
       "8   3  Charlie  19.0     C     Math    NaN  charlie@university.com\n",
       "9   7    Grace  19.0     A  English    NaN                     NaN"
      ]
     },
     "execution_count": 143,
     "metadata": {},
     "output_type": "execute_result"
    }
   ],
   "source": [
    "pd.merge(df,contact_df,how='left')"
   ]
  },
  {
   "cell_type": "code",
   "execution_count": 144,
   "id": "5c9441f5",
   "metadata": {},
   "outputs": [
    {
     "name": "stdout",
     "output_type": "stream",
     "text": [
      "       Name   Age Grade  Subject  Score                   Email\n",
      "ID                                                             \n",
      "1     Alice  20.0     A     Math   85.0    alice@university.com\n",
      "5       Eve  20.0   NaN  Science   88.0      eve@university.com\n",
      "3   Charlie  19.0     C     Math    NaN  charlie@university.com\n"
     ]
    }
   ],
   "source": [
    "df.set_index('ID', inplace=True)\n",
    "contact_df.set_index('ID', inplace=True)\n",
    "\n",
    "\n",
    "joined_df = df.join(contact_df, how='inner')\n",
    "print(joined_df)"
   ]
  },
  {
   "cell_type": "code",
   "execution_count": 145,
   "id": "582a7f85",
   "metadata": {},
   "outputs": [
    {
     "name": "stdout",
     "output_type": "stream",
     "text": [
      "Task 1: Vertical Concatenation with First 3 Rows\n",
      "    ID     Name   Age Grade  Subject  Score\n",
      "0    1    Alice  20.0     A     Math   85.0\n",
      "1    2      Bob   NaN     B  Science   78.0\n",
      "2    3  Charlie  19.0     C     Math    NaN\n",
      "3    4    David  21.0     A  English   92.0\n",
      "4    5      Eve  20.0  None  Science   88.0\n",
      "5    6    Frank  22.0     B     Math   75.0\n",
      "6    7    Grace  19.0     A  English    NaN\n",
      "7    8   Hannah   NaN     C  Science   80.0\n",
      "8    9      Ivy  20.0     B     Math   90.0\n",
      "9   10     Jack  21.0     A  English   87.0\n",
      "10   1    Alice  20.0     A     Math   85.0\n",
      "11   2      Bob   NaN     B  Science   78.0\n",
      "12   3  Charlie  19.0     C     Math    NaN\n",
      "\n",
      "Task 2: Horizontal Concatenation with Compatible Indices\n",
      "       Name   Age Grade  Subject  Score                   Email\n",
      "ID                                                             \n",
      "1     Alice  20.0     A     Math   85.0    alice@university.com\n",
      "2       Bob   NaN     B  Science   78.0                     NaN\n",
      "3   Charlie  19.0     C     Math    NaN  charlie@university.com\n",
      "4     David  21.0     A  English   92.0                     NaN\n",
      "5       Eve  20.0  None  Science   88.0      eve@university.com\n",
      "6     Frank  22.0     B     Math   75.0                     NaN\n",
      "7     Grace  19.0     A  English    NaN                     NaN\n",
      "8    Hannah   NaN     C  Science   80.0                     NaN\n",
      "9       Ivy  20.0     B     Math   90.0                     NaN\n",
      "10     Jack  21.0     A  English   87.0                     NaN\n",
      "11      NaN   NaN   NaN      NaN    NaN     john@university.com\n"
     ]
    }
   ],
   "source": [
    "import pandas as pd\n",
    "\n",
    "# Load student_data.csv programmatically\n",
    "student_data = {\n",
    "    'ID': [1, 2, 3, 4, 5, 6, 7, 8, 9, 10],\n",
    "    'Name': ['Alice', 'Bob', 'Charlie', 'David', 'Eve', 'Frank', 'Grace', 'Hannah', 'Ivy', 'Jack'],\n",
    "    'Age': [20, None, 19, 21, 20, 22, 19, None, 20, 21],\n",
    "    'Grade': ['A', 'B', 'C', 'A', None, 'B', 'A', 'C', 'B', 'A'],\n",
    "    'Subject': ['Math', 'Science', 'Math', 'English', 'Science', 'Math', 'English', 'Science', 'Math', 'English'],\n",
    "    'Score': [85, 78, None, 92, 88, 75, None, 80, 90, 87]\n",
    "}\n",
    "df_students = pd.DataFrame(student_data)\n",
    "\n",
    "# Load student_contact.csv programmatically\n",
    "contact_data = {\n",
    "    'ID': [1, 3, 5, 11],\n",
    "    'Email': ['alice@university.com', 'charlie@university.com', 'eve@university.com', 'john@university.com']\n",
    "}\n",
    "df_contacts = pd.DataFrame(contact_data)\n",
    "\n",
    "# Task 1: Vertically concatenate student_data.csv with its first 3 rows\n",
    "print(\"Task 1: Vertical Concatenation with First 3 Rows\")\n",
    "subset_df = df_students.iloc[:3]  # Select first 3 rows\n",
    "vertical_concat_df = pd.concat([df_students, subset_df], axis=0, ignore_index=True)\n",
    "print(vertical_concat_df)\n",
    "print()\n",
    "\n",
    "# Task 2: Horizontally concatenate student_data.csv and student_contact.csv\n",
    "print(\"Task 2: Horizontal Concatenation with Compatible Indices\")\n",
    "# Set ID as index for both DataFrames\n",
    "df_students_indexed = df_students.set_index('ID')\n",
    "df_contacts_indexed = df_contacts.set_index('ID')\n",
    "# Perform horizontal concatenation\n",
    "horizontal_concat_df = pd.concat([df_students_indexed, df_contacts_indexed], axis=1)\n",
    "print(horizontal_concat_df)"
   ]
  },
  {
   "cell_type": "markdown",
   "id": "704a6c75",
   "metadata": {},
   "source": [
    "Reshaping Data in Pandas"
   ]
  },
  {
   "cell_type": "markdown",
   "id": "ef598aae",
   "metadata": {},
   "source": [
    "Pivoting"
   ]
  },
  {
   "cell_type": "code",
   "execution_count": 146,
   "id": "dd46650d",
   "metadata": {},
   "outputs": [
    {
     "name": "stdout",
     "output_type": "stream",
     "text": [
      "Subject  English  Math  Science\n",
      "Name                           \n",
      "Alice        NaN  85.0      NaN\n",
      "Bob          NaN   NaN     78.0\n",
      "Charlie      NaN   NaN      NaN\n",
      "David       92.0   NaN      NaN\n",
      "Eve          NaN   NaN     88.0\n",
      "Frank        NaN  75.0      NaN\n",
      "Grace        NaN   NaN      NaN\n",
      "Hannah       NaN   NaN     80.0\n",
      "Ivy          NaN  90.0      NaN\n",
      "Jack        87.0   NaN      NaN\n"
     ]
    }
   ],
   "source": [
    "pivotdf=df.pivot(index='Name',columns='Subject',values='Score')\n",
    "print(pivotdf)"
   ]
  },
  {
   "cell_type": "code",
   "execution_count": 147,
   "id": "daead9e1",
   "metadata": {},
   "outputs": [
    {
     "name": "stdout",
     "output_type": "stream",
     "text": [
      "Pivot Table: Average Score by Subject and Grade\n",
      "Grade       A     B     C\n",
      "Subject                  \n",
      "English  89.5   NaN   NaN\n",
      "Math     85.0  82.5   NaN\n",
      "Science   NaN  78.0  80.0\n"
     ]
    },
    {
     "name": "stderr",
     "output_type": "stream",
     "text": [
      "C:\\Users\\ATHARV\\AppData\\Local\\Temp\\ipykernel_2932\\3840100123.py:1: FutureWarning: The default value of observed=False is deprecated and will change to observed=True in a future version of pandas. Specify observed=False to silence this warning and retain the current behavior\n",
      "  pivot_table_df = df.pivot_table(index='Subject', columns='Grade', values='Score', aggfunc='mean')\n"
     ]
    }
   ],
   "source": [
    "pivot_table_df = df.pivot_table(index='Subject', columns='Grade', values='Score', aggfunc='mean')\n",
    "print(\"Pivot Table: Average Score by Subject and Grade\")\n",
    "print(pivot_table_df)"
   ]
  },
  {
   "cell_type": "code",
   "execution_count": 149,
   "id": "4ac8c756",
   "metadata": {},
   "outputs": [
    {
     "name": "stdout",
     "output_type": "stream",
     "text": [
      "Index(['Name', 'Age', 'Grade', 'Subject', 'Score'], dtype='object')\n"
     ]
    }
   ],
   "source": [
    "print(df.columns)\n"
   ]
  },
  {
   "cell_type": "code",
   "execution_count": 151,
   "id": "24c15831",
   "metadata": {},
   "outputs": [
    {
     "data": {
      "text/html": [
       "<div>\n",
       "<style scoped>\n",
       "    .dataframe tbody tr th:only-of-type {\n",
       "        vertical-align: middle;\n",
       "    }\n",
       "\n",
       "    .dataframe tbody tr th {\n",
       "        vertical-align: top;\n",
       "    }\n",
       "\n",
       "    .dataframe thead th {\n",
       "        text-align: right;\n",
       "    }\n",
       "</style>\n",
       "<table border=\"1\" class=\"dataframe\">\n",
       "  <thead>\n",
       "    <tr style=\"text-align: right;\">\n",
       "      <th></th>\n",
       "      <th>Grade</th>\n",
       "      <th>Name</th>\n",
       "      <th>variable</th>\n",
       "      <th>value</th>\n",
       "    </tr>\n",
       "  </thead>\n",
       "  <tbody>\n",
       "    <tr>\n",
       "      <th>0</th>\n",
       "      <td>B</td>\n",
       "      <td>Frank</td>\n",
       "      <td>Score</td>\n",
       "      <td>75.0</td>\n",
       "    </tr>\n",
       "    <tr>\n",
       "      <th>1</th>\n",
       "      <td>B</td>\n",
       "      <td>Bob</td>\n",
       "      <td>Score</td>\n",
       "      <td>78.0</td>\n",
       "    </tr>\n",
       "    <tr>\n",
       "      <th>2</th>\n",
       "      <td>C</td>\n",
       "      <td>Hannah</td>\n",
       "      <td>Score</td>\n",
       "      <td>80.0</td>\n",
       "    </tr>\n",
       "    <tr>\n",
       "      <th>3</th>\n",
       "      <td>A</td>\n",
       "      <td>Alice</td>\n",
       "      <td>Score</td>\n",
       "      <td>85.0</td>\n",
       "    </tr>\n",
       "    <tr>\n",
       "      <th>4</th>\n",
       "      <td>A</td>\n",
       "      <td>Jack</td>\n",
       "      <td>Score</td>\n",
       "      <td>87.0</td>\n",
       "    </tr>\n",
       "    <tr>\n",
       "      <th>5</th>\n",
       "      <td>NaN</td>\n",
       "      <td>Eve</td>\n",
       "      <td>Score</td>\n",
       "      <td>88.0</td>\n",
       "    </tr>\n",
       "    <tr>\n",
       "      <th>6</th>\n",
       "      <td>B</td>\n",
       "      <td>Ivy</td>\n",
       "      <td>Score</td>\n",
       "      <td>90.0</td>\n",
       "    </tr>\n",
       "    <tr>\n",
       "      <th>7</th>\n",
       "      <td>A</td>\n",
       "      <td>David</td>\n",
       "      <td>Score</td>\n",
       "      <td>92.0</td>\n",
       "    </tr>\n",
       "    <tr>\n",
       "      <th>8</th>\n",
       "      <td>C</td>\n",
       "      <td>Charlie</td>\n",
       "      <td>Score</td>\n",
       "      <td>NaN</td>\n",
       "    </tr>\n",
       "    <tr>\n",
       "      <th>9</th>\n",
       "      <td>A</td>\n",
       "      <td>Grace</td>\n",
       "      <td>Score</td>\n",
       "      <td>NaN</td>\n",
       "    </tr>\n",
       "    <tr>\n",
       "      <th>10</th>\n",
       "      <td>B</td>\n",
       "      <td>Frank</td>\n",
       "      <td>Age</td>\n",
       "      <td>22.0</td>\n",
       "    </tr>\n",
       "    <tr>\n",
       "      <th>11</th>\n",
       "      <td>B</td>\n",
       "      <td>Bob</td>\n",
       "      <td>Age</td>\n",
       "      <td>NaN</td>\n",
       "    </tr>\n",
       "    <tr>\n",
       "      <th>12</th>\n",
       "      <td>C</td>\n",
       "      <td>Hannah</td>\n",
       "      <td>Age</td>\n",
       "      <td>NaN</td>\n",
       "    </tr>\n",
       "    <tr>\n",
       "      <th>13</th>\n",
       "      <td>A</td>\n",
       "      <td>Alice</td>\n",
       "      <td>Age</td>\n",
       "      <td>20.0</td>\n",
       "    </tr>\n",
       "    <tr>\n",
       "      <th>14</th>\n",
       "      <td>A</td>\n",
       "      <td>Jack</td>\n",
       "      <td>Age</td>\n",
       "      <td>21.0</td>\n",
       "    </tr>\n",
       "    <tr>\n",
       "      <th>15</th>\n",
       "      <td>NaN</td>\n",
       "      <td>Eve</td>\n",
       "      <td>Age</td>\n",
       "      <td>20.0</td>\n",
       "    </tr>\n",
       "    <tr>\n",
       "      <th>16</th>\n",
       "      <td>B</td>\n",
       "      <td>Ivy</td>\n",
       "      <td>Age</td>\n",
       "      <td>20.0</td>\n",
       "    </tr>\n",
       "    <tr>\n",
       "      <th>17</th>\n",
       "      <td>A</td>\n",
       "      <td>David</td>\n",
       "      <td>Age</td>\n",
       "      <td>21.0</td>\n",
       "    </tr>\n",
       "    <tr>\n",
       "      <th>18</th>\n",
       "      <td>C</td>\n",
       "      <td>Charlie</td>\n",
       "      <td>Age</td>\n",
       "      <td>19.0</td>\n",
       "    </tr>\n",
       "    <tr>\n",
       "      <th>19</th>\n",
       "      <td>A</td>\n",
       "      <td>Grace</td>\n",
       "      <td>Age</td>\n",
       "      <td>19.0</td>\n",
       "    </tr>\n",
       "  </tbody>\n",
       "</table>\n",
       "</div>"
      ],
      "text/plain": [
       "   Grade     Name variable  value\n",
       "0      B    Frank    Score   75.0\n",
       "1      B      Bob    Score   78.0\n",
       "2      C   Hannah    Score   80.0\n",
       "3      A    Alice    Score   85.0\n",
       "4      A     Jack    Score   87.0\n",
       "5    NaN      Eve    Score   88.0\n",
       "6      B      Ivy    Score   90.0\n",
       "7      A    David    Score   92.0\n",
       "8      C  Charlie    Score    NaN\n",
       "9      A    Grace    Score    NaN\n",
       "10     B    Frank      Age   22.0\n",
       "11     B      Bob      Age    NaN\n",
       "12     C   Hannah      Age    NaN\n",
       "13     A    Alice      Age   20.0\n",
       "14     A     Jack      Age   21.0\n",
       "15   NaN      Eve      Age   20.0\n",
       "16     B      Ivy      Age   20.0\n",
       "17     A    David      Age   21.0\n",
       "18     C  Charlie      Age   19.0\n",
       "19     A    Grace      Age   19.0"
      ]
     },
     "execution_count": 151,
     "metadata": {},
     "output_type": "execute_result"
    }
   ],
   "source": [
    "melted_Df=pd.melt(df,id_vars=['Grade','Name'],value_vars=['Score','Age'])\n",
    "melted_Df"
   ]
  },
  {
   "cell_type": "code",
   "execution_count": 152,
   "id": "a04c555a",
   "metadata": {},
   "outputs": [
    {
     "name": "stdout",
     "output_type": "stream",
     "text": [
      "Stacked DataFrame (Long Format):\n",
      "Name            \n",
      "Frank    Subject       Math\n",
      "         Score         75.0\n",
      "Bob      Subject    Science\n",
      "         Score         78.0\n",
      "Hannah   Subject    Science\n",
      "         Score         80.0\n",
      "Alice    Subject       Math\n",
      "         Score         85.0\n",
      "Jack     Subject    English\n",
      "         Score         87.0\n",
      "Eve      Subject    Science\n",
      "         Score         88.0\n",
      "Ivy      Subject       Math\n",
      "         Score         90.0\n",
      "David    Subject    English\n",
      "         Score         92.0\n",
      "Charlie  Subject       Math\n",
      "Grace    Subject    English\n",
      "dtype: object\n"
     ]
    }
   ],
   "source": [
    "stacked_df = df[['Name', 'Subject', 'Score']].set_index('Name').stack()\n",
    "print(\"Stacked DataFrame (Long Format):\")\n",
    "print(stacked_df)"
   ]
  },
  {
   "cell_type": "code",
   "execution_count": null,
   "id": "dcb9dfb7",
   "metadata": {},
   "outputs": [],
   "source": [
    "# #Applying Functions to Series:\n",
    "# Use df['column'].apply(func) to apply a function to each element in a column.\n",
    "# Example: df['Score'].apply(lambda x: x + 10) adds 10 to each score.\n",
    "# Applying Functions to DataFrame:\n",
    "# Use df.apply(func, axis=0) for column-wise operations or axis=1 for row-wise operations.\n",
    "# Example: df.apply(lambda row: row['Score'] * 2, axis=1) doubles scores row-wise.\n",
    "# Vectorized Operations:\n",
    "# Use vectorized methods like df['column'].map(dict) for mapping values or np.where for conditional logic.\n",
    "# Example: df['Grade'].map({'A': 4, 'B': 3, 'C': 2}) converts grades to numeric values."
   ]
  },
  {
   "cell_type": "markdown",
   "id": "0b1d7ffe",
   "metadata": {},
   "source": [
    "Time Series Data in Pandas\n",
    "\n"
   ]
  },
  {
   "cell_type": "code",
   "execution_count": 168,
   "id": "0eb37b43",
   "metadata": {},
   "outputs": [],
   "source": [
    "data = {\n",
    "    'ID': [1, 2, 3, 4, 5, 6, 7, 8, 9, 10],\n",
    "    'Name': ['Alice', 'Bob', 'Charlie', 'David', 'Eve', 'Frank', 'Grace', 'Hannah', 'Ivy', 'Jack'],\n",
    "    'Age': [20, None, 19, 21, 20, 22, 19, None, 20, 21],\n",
    "    'Grade': ['A', 'B', 'C', 'A', None, 'B', 'A', 'C', 'B', 'A'],\n",
    "    'Subject': ['Math', 'Science', 'Math', 'English', 'Science', 'Math', 'English', 'Science', 'Math', 'English'],\n",
    "    'Score': [85, 78, None, 92, 88, 75, None, 80, 90, 87],\n",
    "    'Exam_Date': ['2023-01-10', '2023-01-15', '2023-02-01', '2023-02-10', '2023-03-01', '2023-03-15', '2023-04-01', '2023-04-10', '2023-05-01', '2023-05-15']\n",
    "}\n",
    "df = pd.DataFrame(data)\n",
    "df['Exam_Date'] = pd.to_datetime(df['Exam_Date'])"
   ]
  },
  {
   "cell_type": "code",
   "execution_count": 169,
   "id": "4a9e7dc3",
   "metadata": {},
   "outputs": [
    {
     "data": {
      "text/html": [
       "<div>\n",
       "<style scoped>\n",
       "    .dataframe tbody tr th:only-of-type {\n",
       "        vertical-align: middle;\n",
       "    }\n",
       "\n",
       "    .dataframe tbody tr th {\n",
       "        vertical-align: top;\n",
       "    }\n",
       "\n",
       "    .dataframe thead th {\n",
       "        text-align: right;\n",
       "    }\n",
       "</style>\n",
       "<table border=\"1\" class=\"dataframe\">\n",
       "  <thead>\n",
       "    <tr style=\"text-align: right;\">\n",
       "      <th></th>\n",
       "      <th>ID</th>\n",
       "      <th>Name</th>\n",
       "      <th>Age</th>\n",
       "      <th>Grade</th>\n",
       "      <th>Subject</th>\n",
       "      <th>Score</th>\n",
       "      <th>Exam_Date</th>\n",
       "    </tr>\n",
       "  </thead>\n",
       "  <tbody>\n",
       "    <tr>\n",
       "      <th>0</th>\n",
       "      <td>1</td>\n",
       "      <td>Alice</td>\n",
       "      <td>20.0</td>\n",
       "      <td>A</td>\n",
       "      <td>Math</td>\n",
       "      <td>85.0</td>\n",
       "      <td>2023-01-10</td>\n",
       "    </tr>\n",
       "    <tr>\n",
       "      <th>1</th>\n",
       "      <td>2</td>\n",
       "      <td>Bob</td>\n",
       "      <td>NaN</td>\n",
       "      <td>B</td>\n",
       "      <td>Science</td>\n",
       "      <td>78.0</td>\n",
       "      <td>2023-01-15</td>\n",
       "    </tr>\n",
       "    <tr>\n",
       "      <th>2</th>\n",
       "      <td>3</td>\n",
       "      <td>Charlie</td>\n",
       "      <td>19.0</td>\n",
       "      <td>C</td>\n",
       "      <td>Math</td>\n",
       "      <td>NaN</td>\n",
       "      <td>2023-02-01</td>\n",
       "    </tr>\n",
       "    <tr>\n",
       "      <th>3</th>\n",
       "      <td>4</td>\n",
       "      <td>David</td>\n",
       "      <td>21.0</td>\n",
       "      <td>A</td>\n",
       "      <td>English</td>\n",
       "      <td>92.0</td>\n",
       "      <td>2023-02-10</td>\n",
       "    </tr>\n",
       "    <tr>\n",
       "      <th>4</th>\n",
       "      <td>5</td>\n",
       "      <td>Eve</td>\n",
       "      <td>20.0</td>\n",
       "      <td>None</td>\n",
       "      <td>Science</td>\n",
       "      <td>88.0</td>\n",
       "      <td>2023-03-01</td>\n",
       "    </tr>\n",
       "    <tr>\n",
       "      <th>5</th>\n",
       "      <td>6</td>\n",
       "      <td>Frank</td>\n",
       "      <td>22.0</td>\n",
       "      <td>B</td>\n",
       "      <td>Math</td>\n",
       "      <td>75.0</td>\n",
       "      <td>2023-03-15</td>\n",
       "    </tr>\n",
       "    <tr>\n",
       "      <th>6</th>\n",
       "      <td>7</td>\n",
       "      <td>Grace</td>\n",
       "      <td>19.0</td>\n",
       "      <td>A</td>\n",
       "      <td>English</td>\n",
       "      <td>NaN</td>\n",
       "      <td>2023-04-01</td>\n",
       "    </tr>\n",
       "    <tr>\n",
       "      <th>7</th>\n",
       "      <td>8</td>\n",
       "      <td>Hannah</td>\n",
       "      <td>NaN</td>\n",
       "      <td>C</td>\n",
       "      <td>Science</td>\n",
       "      <td>80.0</td>\n",
       "      <td>2023-04-10</td>\n",
       "    </tr>\n",
       "    <tr>\n",
       "      <th>8</th>\n",
       "      <td>9</td>\n",
       "      <td>Ivy</td>\n",
       "      <td>20.0</td>\n",
       "      <td>B</td>\n",
       "      <td>Math</td>\n",
       "      <td>90.0</td>\n",
       "      <td>2023-05-01</td>\n",
       "    </tr>\n",
       "    <tr>\n",
       "      <th>9</th>\n",
       "      <td>10</td>\n",
       "      <td>Jack</td>\n",
       "      <td>21.0</td>\n",
       "      <td>A</td>\n",
       "      <td>English</td>\n",
       "      <td>87.0</td>\n",
       "      <td>2023-05-15</td>\n",
       "    </tr>\n",
       "  </tbody>\n",
       "</table>\n",
       "</div>"
      ],
      "text/plain": [
       "   ID     Name   Age Grade  Subject  Score  Exam_Date\n",
       "0   1    Alice  20.0     A     Math   85.0 2023-01-10\n",
       "1   2      Bob   NaN     B  Science   78.0 2023-01-15\n",
       "2   3  Charlie  19.0     C     Math    NaN 2023-02-01\n",
       "3   4    David  21.0     A  English   92.0 2023-02-10\n",
       "4   5      Eve  20.0  None  Science   88.0 2023-03-01\n",
       "5   6    Frank  22.0     B     Math   75.0 2023-03-15\n",
       "6   7    Grace  19.0     A  English    NaN 2023-04-01\n",
       "7   8   Hannah   NaN     C  Science   80.0 2023-04-10\n",
       "8   9      Ivy  20.0     B     Math   90.0 2023-05-01\n",
       "9  10     Jack  21.0     A  English   87.0 2023-05-15"
      ]
     },
     "execution_count": 169,
     "metadata": {},
     "output_type": "execute_result"
    }
   ],
   "source": [
    "new_df = df.copy()\n",
    "new_df\n"
   ]
  },
  {
   "cell_type": "code",
   "execution_count": 171,
   "id": "2f594ded",
   "metadata": {},
   "outputs": [
    {
     "data": {
      "text/html": [
       "<div>\n",
       "<style scoped>\n",
       "    .dataframe tbody tr th:only-of-type {\n",
       "        vertical-align: middle;\n",
       "    }\n",
       "\n",
       "    .dataframe tbody tr th {\n",
       "        vertical-align: top;\n",
       "    }\n",
       "\n",
       "    .dataframe thead th {\n",
       "        text-align: right;\n",
       "    }\n",
       "</style>\n",
       "<table border=\"1\" class=\"dataframe\">\n",
       "  <thead>\n",
       "    <tr style=\"text-align: right;\">\n",
       "      <th></th>\n",
       "      <th>ID</th>\n",
       "      <th>Name</th>\n",
       "      <th>Age</th>\n",
       "      <th>Grade</th>\n",
       "      <th>Subject</th>\n",
       "      <th>Score</th>\n",
       "      <th>Exam_Date</th>\n",
       "    </tr>\n",
       "  </thead>\n",
       "  <tbody>\n",
       "    <tr>\n",
       "      <th>0</th>\n",
       "      <td>1</td>\n",
       "      <td>Alice</td>\n",
       "      <td>20.0</td>\n",
       "      <td>A</td>\n",
       "      <td>Math</td>\n",
       "      <td>85.0</td>\n",
       "      <td>2023-01-10</td>\n",
       "    </tr>\n",
       "    <tr>\n",
       "      <th>1</th>\n",
       "      <td>2</td>\n",
       "      <td>Bob</td>\n",
       "      <td>NaN</td>\n",
       "      <td>B</td>\n",
       "      <td>Science</td>\n",
       "      <td>78.0</td>\n",
       "      <td>2023-01-15</td>\n",
       "    </tr>\n",
       "    <tr>\n",
       "      <th>2</th>\n",
       "      <td>3</td>\n",
       "      <td>Charlie</td>\n",
       "      <td>19.0</td>\n",
       "      <td>C</td>\n",
       "      <td>Math</td>\n",
       "      <td>0.0</td>\n",
       "      <td>2023-02-01</td>\n",
       "    </tr>\n",
       "    <tr>\n",
       "      <th>3</th>\n",
       "      <td>4</td>\n",
       "      <td>David</td>\n",
       "      <td>21.0</td>\n",
       "      <td>A</td>\n",
       "      <td>English</td>\n",
       "      <td>92.0</td>\n",
       "      <td>2023-02-10</td>\n",
       "    </tr>\n",
       "    <tr>\n",
       "      <th>4</th>\n",
       "      <td>5</td>\n",
       "      <td>Eve</td>\n",
       "      <td>20.0</td>\n",
       "      <td>None</td>\n",
       "      <td>Science</td>\n",
       "      <td>88.0</td>\n",
       "      <td>2023-03-01</td>\n",
       "    </tr>\n",
       "    <tr>\n",
       "      <th>5</th>\n",
       "      <td>6</td>\n",
       "      <td>Frank</td>\n",
       "      <td>22.0</td>\n",
       "      <td>B</td>\n",
       "      <td>Math</td>\n",
       "      <td>75.0</td>\n",
       "      <td>2023-03-15</td>\n",
       "    </tr>\n",
       "    <tr>\n",
       "      <th>6</th>\n",
       "      <td>7</td>\n",
       "      <td>Grace</td>\n",
       "      <td>19.0</td>\n",
       "      <td>A</td>\n",
       "      <td>English</td>\n",
       "      <td>0.0</td>\n",
       "      <td>2023-04-01</td>\n",
       "    </tr>\n",
       "    <tr>\n",
       "      <th>7</th>\n",
       "      <td>8</td>\n",
       "      <td>Hannah</td>\n",
       "      <td>NaN</td>\n",
       "      <td>C</td>\n",
       "      <td>Science</td>\n",
       "      <td>80.0</td>\n",
       "      <td>2023-04-10</td>\n",
       "    </tr>\n",
       "    <tr>\n",
       "      <th>8</th>\n",
       "      <td>9</td>\n",
       "      <td>Ivy</td>\n",
       "      <td>20.0</td>\n",
       "      <td>B</td>\n",
       "      <td>Math</td>\n",
       "      <td>90.0</td>\n",
       "      <td>2023-05-01</td>\n",
       "    </tr>\n",
       "    <tr>\n",
       "      <th>9</th>\n",
       "      <td>10</td>\n",
       "      <td>Jack</td>\n",
       "      <td>21.0</td>\n",
       "      <td>A</td>\n",
       "      <td>English</td>\n",
       "      <td>87.0</td>\n",
       "      <td>2023-05-15</td>\n",
       "    </tr>\n",
       "  </tbody>\n",
       "</table>\n",
       "</div>"
      ],
      "text/plain": [
       "   ID     Name   Age Grade  Subject  Score  Exam_Date\n",
       "0   1    Alice  20.0     A     Math   85.0 2023-01-10\n",
       "1   2      Bob   NaN     B  Science   78.0 2023-01-15\n",
       "2   3  Charlie  19.0     C     Math    0.0 2023-02-01\n",
       "3   4    David  21.0     A  English   92.0 2023-02-10\n",
       "4   5      Eve  20.0  None  Science   88.0 2023-03-01\n",
       "5   6    Frank  22.0     B     Math   75.0 2023-03-15\n",
       "6   7    Grace  19.0     A  English    0.0 2023-04-01\n",
       "7   8   Hannah   NaN     C  Science   80.0 2023-04-10\n",
       "8   9      Ivy  20.0     B     Math   90.0 2023-05-01\n",
       "9  10     Jack  21.0     A  English   87.0 2023-05-15"
      ]
     },
     "execution_count": 171,
     "metadata": {},
     "output_type": "execute_result"
    }
   ],
   "source": [
    "new_df['Score'] = new_df['Score'].fillna(0)\n",
    "new_df"
   ]
  },
  {
   "cell_type": "code",
   "execution_count": 172,
   "id": "90c322ce",
   "metadata": {},
   "outputs": [],
   "source": [
    "# Set Exam_Date as index and filter for first half of 2023\n",
    "new_df = new_df.set_index('Exam_Date')\n",
    "new_df = new_df['2023-01-01':'2023-06-30']\n",
    "# Add Month_Name column\n",
    "new_df['Month_Name'] = new_df.index.strftime('%B')"
   ]
  },
  {
   "cell_type": "code",
   "execution_count": 173,
   "id": "c703f4a8",
   "metadata": {},
   "outputs": [
    {
     "name": "stderr",
     "output_type": "stream",
     "text": [
      "C:\\Users\\ATHARV\\AppData\\Local\\Temp\\ipykernel_2932\\1197162890.py:1: FutureWarning: 'M' is deprecated and will be removed in a future version, please use 'ME' instead.\n",
      "  resampled_df = new_df.resample('M').agg({'ID': 'count', 'Score': 'mean'})\n"
     ]
    }
   ],
   "source": [
    "resampled_df = new_df.resample('M').agg({'ID': 'count', 'Score': 'mean'})\n",
    "resampled_df = resampled_df.rename(columns={'ID': 'Exam_Count'})\n",
    "\n"
   ]
  },
  {
   "cell_type": "code",
   "execution_count": 174,
   "id": "736e4447",
   "metadata": {},
   "outputs": [
    {
     "name": "stdout",
     "output_type": "stream",
     "text": [
      "Resampled DataFrame (Monthly Exam Count and Average Score):\n",
      "            Exam_Count  Score\n",
      "Exam_Date                    \n",
      "2023-01-31           2   81.5\n",
      "2023-02-28           2   46.0\n",
      "2023-03-31           2   81.5\n",
      "2023-04-30           2   40.0\n",
      "2023-05-31           2   88.5\n",
      "\n",
      "Explanation: The Month_Name column was created by extracting the full month name from the Exam_Date index using the strftime('%B') method, which formats the datetime index to display the month name (e.g., 'January' for 2023-01-10).\n"
     ]
    }
   ],
   "source": [
    "# Print the resulting DataFrame\n",
    "print(\"Resampled DataFrame (Monthly Exam Count and Average Score):\")\n",
    "print(resampled_df)\n",
    "\n",
    "# Explanation of Month_Name extraction\n",
    "print(\"\\nExplanation: The Month_Name column was created by extracting the full month name from the Exam_Date index using the strftime('%B') method, which formats the datetime index to display the month name (e.g., 'January' for 2023-01-10).\")"
   ]
  },
  {
   "cell_type": "code",
   "execution_count": null,
   "id": "81bac687",
   "metadata": {},
   "outputs": [],
   "source": []
  }
 ],
 "metadata": {
  "kernelspec": {
   "display_name": "Python 3",
   "language": "python",
   "name": "python3"
  },
  "language_info": {
   "codemirror_mode": {
    "name": "ipython",
    "version": 3
   },
   "file_extension": ".py",
   "mimetype": "text/x-python",
   "name": "python",
   "nbconvert_exporter": "python",
   "pygments_lexer": "ipython3",
   "version": "3.12.0"
  }
 },
 "nbformat": 4,
 "nbformat_minor": 5
}
