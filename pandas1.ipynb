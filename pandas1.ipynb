{
 "cells": [
  {
   "cell_type": "markdown",
   "id": "05c3cb0d",
   "metadata": {},
   "source": [
    "Pandas- Dataframe \n"
   ]
  },
  {
   "cell_type": "code",
   "execution_count": 2,
   "id": "2556369b",
   "metadata": {},
   "outputs": [],
   "source": [
    "import pandas as pd"
   ]
  },
  {
   "cell_type": "markdown",
   "id": "7f2533f1",
   "metadata": {},
   "source": [
    "what is a series \n",
    "A Series in pandas is a one-dimensional labeled array capable of holding any data type (integers, strings, floats, Python objects, etc.). Think of it as a column in a spreadsheet or a single column from a DataFrame."
   ]
  },
  {
   "cell_type": "code",
   "execution_count": 4,
   "id": "3be60c20",
   "metadata": {},
   "outputs": [
    {
     "name": "stdout",
     "output_type": "stream",
     "text": [
      "Series \n",
      " 0    1\n",
      "1    2\n",
      "2    3\n",
      "3    4\n",
      "4    5\n",
      "5    6\n",
      "dtype: int64\n"
     ]
    }
   ],
   "source": [
    "data=[1,2,3,4,5,6]\n",
    "series=pd.Series(data)\n",
    "print(\"Series \\n\",series)\n"
   ]
  },
  {
   "cell_type": "markdown",
   "id": "c45795c8",
   "metadata": {},
   "source": [
    "create a series from dictionary "
   ]
  },
  {
   "cell_type": "code",
   "execution_count": 5,
   "id": "610b9385",
   "metadata": {},
   "outputs": [
    {
     "name": "stdout",
     "output_type": "stream",
     "text": [
      "a    1\n",
      "b    2\n",
      "c    3\n",
      "dtype: int64\n"
     ]
    }
   ],
   "source": [
    "data={'a':1,'b':2,'c':3}\n",
    "series_data=pd.Series(data)\n",
    "print(series_data)\n"
   ]
  },
  {
   "cell_type": "code",
   "execution_count": 6,
   "id": "668f6fb6",
   "metadata": {},
   "outputs": [
    {
     "data": {
      "text/plain": [
       "a    10\n",
       "b    20\n",
       "c    30\n",
       "d    40\n",
       "e    50\n",
       "dtype: int64"
      ]
     },
     "execution_count": 6,
     "metadata": {},
     "output_type": "execute_result"
    }
   ],
   "source": [
    "data=[10,20,30,40,50]\n",
    "index=['a','b','c','d','e']\n",
    "pd.Series(data,index=index)"
   ]
  },
  {
   "cell_type": "code",
   "execution_count": 8,
   "id": "ef85b6f8",
   "metadata": {},
   "outputs": [
    {
     "name": "stdout",
     "output_type": "stream",
     "text": [
      "     name  Age      City\n",
      "0  Atharv   21  Kolhapur\n",
      "1     ram   25  malkapur\n",
      "2    Arya   36    hupari\n",
      "<class 'pandas.core.frame.DataFrame'>\n"
     ]
    }
   ],
   "source": [
    "##dataframe \n",
    "##create a dataframe from a dictionary of list \n",
    "data={\n",
    "    'name':['Atharv','ram','Arya'],\n",
    "    'Age':[21,25,36],\n",
    "    'City':['Kolhapur','malkapur','hupari']\n",
    "\n",
    "}\n",
    "df=pd.DataFrame(data)\n",
    "print(df)\n",
    "print(type(df))"
   ]
  },
  {
   "cell_type": "code",
   "execution_count": 9,
   "id": "baf06235",
   "metadata": {},
   "outputs": [
    {
     "data": {
      "text/plain": [
       "array([['Atharv', 21, 'Kolhapur'],\n",
       "       ['ram', 25, 'malkapur'],\n",
       "       ['Arya', 36, 'hupari']], dtype=object)"
      ]
     },
     "execution_count": 9,
     "metadata": {},
     "output_type": "execute_result"
    }
   ],
   "source": [
    "import numpy as np \n",
    "np.array(df)"
   ]
  },
  {
   "cell_type": "markdown",
   "id": "d013d983",
   "metadata": {},
   "source": [
    "create a dataframe from list of Dictionary \n"
   ]
  },
  {
   "cell_type": "code",
   "execution_count": 15,
   "id": "8fb405ec",
   "metadata": {},
   "outputs": [
    {
     "name": "stdout",
     "output_type": "stream",
     "text": [
      "     Name  Age      City\n",
      "0  atharv   21  Kolhapur\n",
      "1   Amrut   23      maan\n",
      "2    Arya   26  new york\n",
      "3     ram   31  malkapur\n",
      "<class 'pandas.core.frame.DataFrame'>\n"
     ]
    }
   ],
   "source": [
    "data=[\n",
    "    {'Name':'atharv','Age':21,'City':'Kolhapur'},\n",
    "    {'Name':'Amrut','Age':23,'City':'maan'},\n",
    "    {'Name':'Arya','Age':26,'City':'new york'},\n",
    "    {'Name':'ram','Age':31,'City':'malkapur'}\n",
    "]\n",
    "\n",
    "df=pd.DataFrame(data)\n",
    "print(df)\n",
    "print(type(df))\n"
   ]
  },
  {
   "cell_type": "markdown",
   "id": "d854fc48",
   "metadata": {},
   "source": [
    "##accesing data from dataframe \n"
   ]
  },
  {
   "cell_type": "code",
   "execution_count": null,
   "id": "20705f1d",
   "metadata": {},
   "outputs": [
    {
     "data": {
      "text/html": [
       "<div>\n",
       "<style scoped>\n",
       "    .dataframe tbody tr th:only-of-type {\n",
       "        vertical-align: middle;\n",
       "    }\n",
       "\n",
       "    .dataframe tbody tr th {\n",
       "        vertical-align: top;\n",
       "    }\n",
       "\n",
       "    .dataframe thead th {\n",
       "        text-align: right;\n",
       "    }\n",
       "</style>\n",
       "<table border=\"1\" class=\"dataframe\">\n",
       "  <thead>\n",
       "    <tr style=\"text-align: right;\">\n",
       "      <th></th>\n",
       "      <th>Name</th>\n",
       "      <th>Age</th>\n",
       "      <th>City</th>\n",
       "    </tr>\n",
       "  </thead>\n",
       "  <tbody>\n",
       "    <tr>\n",
       "      <th>0</th>\n",
       "      <td>atharv</td>\n",
       "      <td>21</td>\n",
       "      <td>Kolhapur</td>\n",
       "    </tr>\n",
       "    <tr>\n",
       "      <th>1</th>\n",
       "      <td>Amrut</td>\n",
       "      <td>23</td>\n",
       "      <td>maan</td>\n",
       "    </tr>\n",
       "    <tr>\n",
       "      <th>2</th>\n",
       "      <td>Arya</td>\n",
       "      <td>26</td>\n",
       "      <td>new york</td>\n",
       "    </tr>\n",
       "    <tr>\n",
       "      <th>3</th>\n",
       "      <td>ram</td>\n",
       "      <td>31</td>\n",
       "      <td>malkapur</td>\n",
       "    </tr>\n",
       "  </tbody>\n",
       "</table>\n",
       "</div>"
      ],
      "text/plain": [
       "     Name  Age      City\n",
       "0  atharv   21  Kolhapur\n",
       "1   Amrut   23      maan\n",
       "2    Arya   26  new york\n",
       "3     ram   31  malkapur"
      ]
     },
     "execution_count": 16,
     "metadata": {},
     "output_type": "execute_result"
    }
   ],
   "source": [
    "df "
   ]
  },
  {
   "cell_type": "code",
   "execution_count": 19,
   "id": "fdec335c",
   "metadata": {},
   "outputs": [
    {
     "data": {
      "text/plain": [
       "pandas.core.series.Series"
      ]
     },
     "execution_count": 19,
     "metadata": {},
     "output_type": "execute_result"
    }
   ],
   "source": [
    "df['Name']\n",
    "type(df['Name'])"
   ]
  },
  {
   "cell_type": "code",
   "execution_count": 20,
   "id": "3e688ccc",
   "metadata": {},
   "outputs": [
    {
     "data": {
      "text/plain": [
       "Name      atharv\n",
       "Age           21\n",
       "City    Kolhapur\n",
       "Name: 0, dtype: object"
      ]
     },
     "execution_count": 20,
     "metadata": {},
     "output_type": "execute_result"
    }
   ],
   "source": [
    "df.loc[0]"
   ]
  },
  {
   "cell_type": "code",
   "execution_count": 22,
   "id": "183c30cf",
   "metadata": {},
   "outputs": [
    {
     "name": "stderr",
     "output_type": "stream",
     "text": [
      "C:\\Users\\ATHARV\\AppData\\Local\\Temp\\ipykernel_15560\\2900375399.py:1: FutureWarning: Series.__getitem__ treating keys as positions is deprecated. In a future version, integer keys will always be treated as labels (consistent with DataFrame behavior). To access a value by position, use `ser.iloc[pos]`\n",
      "  df.iloc[0][0]\n"
     ]
    },
    {
     "data": {
      "text/plain": [
       "'atharv'"
      ]
     },
     "execution_count": 22,
     "metadata": {},
     "output_type": "execute_result"
    }
   ],
   "source": [
    "df.iloc[0][0]"
   ]
  },
  {
   "cell_type": "markdown",
   "id": "3226451b",
   "metadata": {},
   "source": [
    "Accessing a specified element \n"
   ]
  },
  {
   "cell_type": "code",
   "execution_count": null,
   "id": "31d99a5f",
   "metadata": {},
   "outputs": [
    {
     "data": {
      "text/plain": [
       "'Amrut'"
      ]
     },
     "execution_count": 29,
     "metadata": {},
     "output_type": "execute_result"
    }
   ],
   "source": [
    "\n",
    "df.at[3,'Age']\n",
    "df.at[1,'Name']"
   ]
  },
  {
   "cell_type": "markdown",
   "id": "8ac18653",
   "metadata": {},
   "source": [
    "accessing a specified element using iat\n"
   ]
  },
  {
   "cell_type": "code",
   "execution_count": 30,
   "id": "2dc36c30",
   "metadata": {},
   "outputs": [
    {
     "data": {
      "text/plain": [
       "'new york'"
      ]
     },
     "execution_count": 30,
     "metadata": {},
     "output_type": "execute_result"
    }
   ],
   "source": [
    "df.iat[2,2]"
   ]
  },
  {
   "cell_type": "markdown",
   "id": "60dc0157",
   "metadata": {},
   "source": [
    "data Manipulation with dataframe\n"
   ]
  },
  {
   "cell_type": "code",
   "execution_count": 31,
   "id": "58fa20ba",
   "metadata": {},
   "outputs": [
    {
     "data": {
      "text/html": [
       "<div>\n",
       "<style scoped>\n",
       "    .dataframe tbody tr th:only-of-type {\n",
       "        vertical-align: middle;\n",
       "    }\n",
       "\n",
       "    .dataframe tbody tr th {\n",
       "        vertical-align: top;\n",
       "    }\n",
       "\n",
       "    .dataframe thead th {\n",
       "        text-align: right;\n",
       "    }\n",
       "</style>\n",
       "<table border=\"1\" class=\"dataframe\">\n",
       "  <thead>\n",
       "    <tr style=\"text-align: right;\">\n",
       "      <th></th>\n",
       "      <th>Name</th>\n",
       "      <th>Age</th>\n",
       "      <th>City</th>\n",
       "    </tr>\n",
       "  </thead>\n",
       "  <tbody>\n",
       "    <tr>\n",
       "      <th>0</th>\n",
       "      <td>atharv</td>\n",
       "      <td>21</td>\n",
       "      <td>Kolhapur</td>\n",
       "    </tr>\n",
       "    <tr>\n",
       "      <th>1</th>\n",
       "      <td>Amrut</td>\n",
       "      <td>23</td>\n",
       "      <td>maan</td>\n",
       "    </tr>\n",
       "    <tr>\n",
       "      <th>2</th>\n",
       "      <td>Arya</td>\n",
       "      <td>26</td>\n",
       "      <td>new york</td>\n",
       "    </tr>\n",
       "    <tr>\n",
       "      <th>3</th>\n",
       "      <td>ram</td>\n",
       "      <td>31</td>\n",
       "      <td>malkapur</td>\n",
       "    </tr>\n",
       "  </tbody>\n",
       "</table>\n",
       "</div>"
      ],
      "text/plain": [
       "     Name  Age      City\n",
       "0  atharv   21  Kolhapur\n",
       "1   Amrut   23      maan\n",
       "2    Arya   26  new york\n",
       "3     ram   31  malkapur"
      ]
     },
     "execution_count": 31,
     "metadata": {},
     "output_type": "execute_result"
    }
   ],
   "source": [
    "df"
   ]
  },
  {
   "cell_type": "code",
   "execution_count": 45,
   "id": "9e2f3d31",
   "metadata": {},
   "outputs": [
    {
     "data": {
      "text/html": [
       "<div>\n",
       "<style scoped>\n",
       "    .dataframe tbody tr th:only-of-type {\n",
       "        vertical-align: middle;\n",
       "    }\n",
       "\n",
       "    .dataframe tbody tr th {\n",
       "        vertical-align: top;\n",
       "    }\n",
       "\n",
       "    .dataframe thead th {\n",
       "        text-align: right;\n",
       "    }\n",
       "</style>\n",
       "<table border=\"1\" class=\"dataframe\">\n",
       "  <thead>\n",
       "    <tr style=\"text-align: right;\">\n",
       "      <th></th>\n",
       "      <th>Name</th>\n",
       "      <th>Age</th>\n",
       "      <th>City</th>\n",
       "      <th>salary</th>\n",
       "    </tr>\n",
       "  </thead>\n",
       "  <tbody>\n",
       "    <tr>\n",
       "      <th>0</th>\n",
       "      <td>atharv</td>\n",
       "      <td>21</td>\n",
       "      <td>Kolhapur</td>\n",
       "      <td>50000</td>\n",
       "    </tr>\n",
       "    <tr>\n",
       "      <th>1</th>\n",
       "      <td>Amrut</td>\n",
       "      <td>23</td>\n",
       "      <td>maan</td>\n",
       "      <td>60000</td>\n",
       "    </tr>\n",
       "    <tr>\n",
       "      <th>2</th>\n",
       "      <td>Arya</td>\n",
       "      <td>26</td>\n",
       "      <td>new york</td>\n",
       "      <td>80000</td>\n",
       "    </tr>\n",
       "    <tr>\n",
       "      <th>3</th>\n",
       "      <td>ram</td>\n",
       "      <td>31</td>\n",
       "      <td>malkapur</td>\n",
       "      <td>90000</td>\n",
       "    </tr>\n",
       "  </tbody>\n",
       "</table>\n",
       "</div>"
      ],
      "text/plain": [
       "     Name  Age      City  salary\n",
       "0  atharv   21  Kolhapur   50000\n",
       "1   Amrut   23      maan   60000\n",
       "2    Arya   26  new york   80000\n",
       "3     ram   31  malkapur   90000"
      ]
     },
     "execution_count": 45,
     "metadata": {},
     "output_type": "execute_result"
    }
   ],
   "source": [
    "##adding a new column \n",
    "df['salary']=[50000,60000,80000,90000]\n",
    "df"
   ]
  },
  {
   "cell_type": "code",
   "execution_count": 43,
   "id": "9ff303ed",
   "metadata": {},
   "outputs": [],
   "source": [
    "# # removing a column \n",
    "# df.drop('salary',axis=1)##axis plays important role \n",
    "# #not a permanent operation\n",
    "  "
   ]
  },
  {
   "cell_type": "code",
   "execution_count": 46,
   "id": "54e39ca1",
   "metadata": {},
   "outputs": [
    {
     "data": {
      "text/html": [
       "<div>\n",
       "<style scoped>\n",
       "    .dataframe tbody tr th:only-of-type {\n",
       "        vertical-align: middle;\n",
       "    }\n",
       "\n",
       "    .dataframe tbody tr th {\n",
       "        vertical-align: top;\n",
       "    }\n",
       "\n",
       "    .dataframe thead th {\n",
       "        text-align: right;\n",
       "    }\n",
       "</style>\n",
       "<table border=\"1\" class=\"dataframe\">\n",
       "  <thead>\n",
       "    <tr style=\"text-align: right;\">\n",
       "      <th></th>\n",
       "      <th>Name</th>\n",
       "      <th>Age</th>\n",
       "      <th>City</th>\n",
       "      <th>salary</th>\n",
       "    </tr>\n",
       "  </thead>\n",
       "  <tbody>\n",
       "    <tr>\n",
       "      <th>0</th>\n",
       "      <td>atharv</td>\n",
       "      <td>21</td>\n",
       "      <td>Kolhapur</td>\n",
       "      <td>50000</td>\n",
       "    </tr>\n",
       "    <tr>\n",
       "      <th>1</th>\n",
       "      <td>Amrut</td>\n",
       "      <td>23</td>\n",
       "      <td>maan</td>\n",
       "      <td>60000</td>\n",
       "    </tr>\n",
       "    <tr>\n",
       "      <th>2</th>\n",
       "      <td>Arya</td>\n",
       "      <td>26</td>\n",
       "      <td>new york</td>\n",
       "      <td>80000</td>\n",
       "    </tr>\n",
       "    <tr>\n",
       "      <th>3</th>\n",
       "      <td>ram</td>\n",
       "      <td>31</td>\n",
       "      <td>malkapur</td>\n",
       "      <td>90000</td>\n",
       "    </tr>\n",
       "  </tbody>\n",
       "</table>\n",
       "</div>"
      ],
      "text/plain": [
       "     Name  Age      City  salary\n",
       "0  atharv   21  Kolhapur   50000\n",
       "1   Amrut   23      maan   60000\n",
       "2    Arya   26  new york   80000\n",
       "3     ram   31  malkapur   90000"
      ]
     },
     "execution_count": 46,
     "metadata": {},
     "output_type": "execute_result"
    }
   ],
   "source": [
    "df"
   ]
  },
  {
   "cell_type": "code",
   "execution_count": 47,
   "id": "606bebce",
   "metadata": {},
   "outputs": [],
   "source": [
    "df.drop('salary',axis=1,inplace=True)\n",
    "##for complete deletion \n"
   ]
  },
  {
   "cell_type": "code",
   "execution_count": 48,
   "id": "0954ddc7",
   "metadata": {},
   "outputs": [
    {
     "data": {
      "text/html": [
       "<div>\n",
       "<style scoped>\n",
       "    .dataframe tbody tr th:only-of-type {\n",
       "        vertical-align: middle;\n",
       "    }\n",
       "\n",
       "    .dataframe tbody tr th {\n",
       "        vertical-align: top;\n",
       "    }\n",
       "\n",
       "    .dataframe thead th {\n",
       "        text-align: right;\n",
       "    }\n",
       "</style>\n",
       "<table border=\"1\" class=\"dataframe\">\n",
       "  <thead>\n",
       "    <tr style=\"text-align: right;\">\n",
       "      <th></th>\n",
       "      <th>Name</th>\n",
       "      <th>Age</th>\n",
       "      <th>City</th>\n",
       "    </tr>\n",
       "  </thead>\n",
       "  <tbody>\n",
       "    <tr>\n",
       "      <th>0</th>\n",
       "      <td>atharv</td>\n",
       "      <td>21</td>\n",
       "      <td>Kolhapur</td>\n",
       "    </tr>\n",
       "    <tr>\n",
       "      <th>1</th>\n",
       "      <td>Amrut</td>\n",
       "      <td>23</td>\n",
       "      <td>maan</td>\n",
       "    </tr>\n",
       "    <tr>\n",
       "      <th>2</th>\n",
       "      <td>Arya</td>\n",
       "      <td>26</td>\n",
       "      <td>new york</td>\n",
       "    </tr>\n",
       "    <tr>\n",
       "      <th>3</th>\n",
       "      <td>ram</td>\n",
       "      <td>31</td>\n",
       "      <td>malkapur</td>\n",
       "    </tr>\n",
       "  </tbody>\n",
       "</table>\n",
       "</div>"
      ],
      "text/plain": [
       "     Name  Age      City\n",
       "0  atharv   21  Kolhapur\n",
       "1   Amrut   23      maan\n",
       "2    Arya   26  new york\n",
       "3     ram   31  malkapur"
      ]
     },
     "execution_count": 48,
     "metadata": {},
     "output_type": "execute_result"
    }
   ],
   "source": [
    "df"
   ]
  },
  {
   "cell_type": "code",
   "execution_count": 49,
   "id": "28f05654",
   "metadata": {},
   "outputs": [],
   "source": [
    "##add age to column\n",
    "df['Age']=df['Age']+1"
   ]
  },
  {
   "cell_type": "code",
   "execution_count": 50,
   "id": "63537eff",
   "metadata": {},
   "outputs": [
    {
     "data": {
      "text/html": [
       "<div>\n",
       "<style scoped>\n",
       "    .dataframe tbody tr th:only-of-type {\n",
       "        vertical-align: middle;\n",
       "    }\n",
       "\n",
       "    .dataframe tbody tr th {\n",
       "        vertical-align: top;\n",
       "    }\n",
       "\n",
       "    .dataframe thead th {\n",
       "        text-align: right;\n",
       "    }\n",
       "</style>\n",
       "<table border=\"1\" class=\"dataframe\">\n",
       "  <thead>\n",
       "    <tr style=\"text-align: right;\">\n",
       "      <th></th>\n",
       "      <th>Name</th>\n",
       "      <th>Age</th>\n",
       "      <th>City</th>\n",
       "    </tr>\n",
       "  </thead>\n",
       "  <tbody>\n",
       "    <tr>\n",
       "      <th>0</th>\n",
       "      <td>atharv</td>\n",
       "      <td>22</td>\n",
       "      <td>Kolhapur</td>\n",
       "    </tr>\n",
       "    <tr>\n",
       "      <th>1</th>\n",
       "      <td>Amrut</td>\n",
       "      <td>24</td>\n",
       "      <td>maan</td>\n",
       "    </tr>\n",
       "    <tr>\n",
       "      <th>2</th>\n",
       "      <td>Arya</td>\n",
       "      <td>27</td>\n",
       "      <td>new york</td>\n",
       "    </tr>\n",
       "    <tr>\n",
       "      <th>3</th>\n",
       "      <td>ram</td>\n",
       "      <td>32</td>\n",
       "      <td>malkapur</td>\n",
       "    </tr>\n",
       "  </tbody>\n",
       "</table>\n",
       "</div>"
      ],
      "text/plain": [
       "     Name  Age      City\n",
       "0  atharv   22  Kolhapur\n",
       "1   Amrut   24      maan\n",
       "2    Arya   27  new york\n",
       "3     ram   32  malkapur"
      ]
     },
     "execution_count": 50,
     "metadata": {},
     "output_type": "execute_result"
    }
   ],
   "source": [
    "df"
   ]
  },
  {
   "cell_type": "code",
   "execution_count": 55,
   "id": "2f90a937",
   "metadata": {},
   "outputs": [
    {
     "data": {
      "text/html": [
       "<div>\n",
       "<style scoped>\n",
       "    .dataframe tbody tr th:only-of-type {\n",
       "        vertical-align: middle;\n",
       "    }\n",
       "\n",
       "    .dataframe tbody tr th {\n",
       "        vertical-align: top;\n",
       "    }\n",
       "\n",
       "    .dataframe thead th {\n",
       "        text-align: right;\n",
       "    }\n",
       "</style>\n",
       "<table border=\"1\" class=\"dataframe\">\n",
       "  <thead>\n",
       "    <tr style=\"text-align: right;\">\n",
       "      <th></th>\n",
       "      <th>Transaction ID</th>\n",
       "      <th>Date</th>\n",
       "      <th>Product Category</th>\n",
       "      <th>Product Name</th>\n",
       "      <th>Units Sold</th>\n",
       "      <th>Unit Price</th>\n",
       "      <th>Total Revenue</th>\n",
       "      <th>Region</th>\n",
       "      <th>Payment Method</th>\n",
       "    </tr>\n",
       "  </thead>\n",
       "  <tbody>\n",
       "    <tr>\n",
       "      <th>0</th>\n",
       "      <td>10001</td>\n",
       "      <td>2024-01-01</td>\n",
       "      <td>Electronics</td>\n",
       "      <td>iPhone 14 Pro</td>\n",
       "      <td>2</td>\n",
       "      <td>999.99</td>\n",
       "      <td>1999.98</td>\n",
       "      <td>North America</td>\n",
       "      <td>Credit Card</td>\n",
       "    </tr>\n",
       "    <tr>\n",
       "      <th>1</th>\n",
       "      <td>10002</td>\n",
       "      <td>2024-01-02</td>\n",
       "      <td>Home Appliances</td>\n",
       "      <td>Dyson V11 Vacuum</td>\n",
       "      <td>1</td>\n",
       "      <td>499.99</td>\n",
       "      <td>499.99</td>\n",
       "      <td>Europe</td>\n",
       "      <td>PayPal</td>\n",
       "    </tr>\n",
       "    <tr>\n",
       "      <th>2</th>\n",
       "      <td>10003</td>\n",
       "      <td>2024-01-03</td>\n",
       "      <td>Clothing</td>\n",
       "      <td>Levi's 501 Jeans</td>\n",
       "      <td>3</td>\n",
       "      <td>69.99</td>\n",
       "      <td>209.97</td>\n",
       "      <td>Asia</td>\n",
       "      <td>Debit Card</td>\n",
       "    </tr>\n",
       "    <tr>\n",
       "      <th>3</th>\n",
       "      <td>10004</td>\n",
       "      <td>2024-01-04</td>\n",
       "      <td>Books</td>\n",
       "      <td>The Da Vinci Code</td>\n",
       "      <td>4</td>\n",
       "      <td>15.99</td>\n",
       "      <td>63.96</td>\n",
       "      <td>North America</td>\n",
       "      <td>Credit Card</td>\n",
       "    </tr>\n",
       "    <tr>\n",
       "      <th>4</th>\n",
       "      <td>10005</td>\n",
       "      <td>2024-01-05</td>\n",
       "      <td>Beauty Products</td>\n",
       "      <td>Neutrogena Skincare Set</td>\n",
       "      <td>1</td>\n",
       "      <td>89.99</td>\n",
       "      <td>89.99</td>\n",
       "      <td>Europe</td>\n",
       "      <td>PayPal</td>\n",
       "    </tr>\n",
       "  </tbody>\n",
       "</table>\n",
       "</div>"
      ],
      "text/plain": [
       "   Transaction ID        Date Product Category             Product Name  \\\n",
       "0           10001  2024-01-01      Electronics            iPhone 14 Pro   \n",
       "1           10002  2024-01-02  Home Appliances         Dyson V11 Vacuum   \n",
       "2           10003  2024-01-03         Clothing         Levi's 501 Jeans   \n",
       "3           10004  2024-01-04            Books        The Da Vinci Code   \n",
       "4           10005  2024-01-05  Beauty Products  Neutrogena Skincare Set   \n",
       "\n",
       "   Units Sold  Unit Price  Total Revenue         Region Payment Method  \n",
       "0           2      999.99        1999.98  North America    Credit Card  \n",
       "1           1      499.99         499.99         Europe         PayPal  \n",
       "2           3       69.99         209.97           Asia     Debit Card  \n",
       "3           4       15.99          63.96  North America    Credit Card  \n",
       "4           1       89.99          89.99         Europe         PayPal  "
      ]
     },
     "execution_count": 55,
     "metadata": {},
     "output_type": "execute_result"
    }
   ],
   "source": [
    "df=pd.read_csv('sales_data.csv')\n",
    "df.head()"
   ]
  },
  {
   "cell_type": "code",
   "execution_count": 57,
   "id": "532b5982",
   "metadata": {},
   "outputs": [
    {
     "name": "stdout",
     "output_type": "stream",
     "text": [
      "Datatypes:\n",
      " Transaction ID        int64\n",
      "Date                 object\n",
      "Product Category     object\n",
      "Product Name         object\n",
      "Units Sold            int64\n",
      "Unit Price          float64\n",
      "Total Revenue       float64\n",
      "Region               object\n",
      "Payment Method       object\n",
      "dtype: object\n",
      "Statistical summary: \n",
      "        Transaction ID  Units Sold   Unit Price  Total Revenue\n",
      "count       240.00000  240.000000   240.000000     240.000000\n",
      "mean      10120.50000    2.158333   236.395583     335.699375\n",
      "std          69.42622    1.322454   429.446695     485.804469\n",
      "min       10001.00000    1.000000     6.500000       6.500000\n",
      "25%       10060.75000    1.000000    29.500000      62.965000\n",
      "50%       10120.50000    2.000000    89.990000     179.970000\n",
      "75%       10180.25000    3.000000   249.990000     399.225000\n",
      "max       10240.00000   10.000000  3899.990000    3899.990000\n"
     ]
    }
   ],
   "source": [
    "#display data types of each column\n",
    "print(\"Datatypes:\\n\",df.dtypes)\n",
    "\n",
    "\n",
    "#describe data fame \n",
    "print(\"Statistical summary: \\n\",df.describe())\n",
    "\n"
   ]
  }
 ],
 "metadata": {
  "kernelspec": {
   "display_name": "Python 3",
   "language": "python",
   "name": "python3"
  },
  "language_info": {
   "codemirror_mode": {
    "name": "ipython",
    "version": 3
   },
   "file_extension": ".py",
   "mimetype": "text/x-python",
   "name": "python",
   "nbconvert_exporter": "python",
   "pygments_lexer": "ipython3",
   "version": "3.12.0"
  }
 },
 "nbformat": 4,
 "nbformat_minor": 5
}
